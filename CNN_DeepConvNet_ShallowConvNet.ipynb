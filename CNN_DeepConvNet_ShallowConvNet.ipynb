{
  "nbformat": 4,
  "nbformat_minor": 0,
  "metadata": {
    "colab": {
      "name": "Project",
      "provenance": [],
      "collapsed_sections": []
    },
    "kernelspec": {
      "name": "python3",
      "display_name": "Python 3"
    },
    "language_info": {
      "name": "python"
    }
  },
  "cells": [
    {
      "cell_type": "code",
      "execution_count": null,
      "metadata": {
        "id": "uykYUjDswO_W",
        "colab": {
          "base_uri": "https://localhost:8080/"
        },
        "outputId": "b31b374c-92a9-4cdc-ac8d-2426457172c8"
      },
      "outputs": [
        {
          "output_type": "stream",
          "name": "stdout",
          "text": [
            "Mounted at /content/drive\n"
          ]
        }
      ],
      "source": [
        "from google.colab import drive\n",
        "drive.mount('/content/drive')"
      ]
    },
    {
      "cell_type": "code",
      "source": [
        "cd drive/MyDrive/C247-NNDL/"
      ],
      "metadata": {
        "colab": {
          "base_uri": "https://localhost:8080/"
        },
        "id": "WsCniUN7y7vm",
        "outputId": "07770641-fc22-46c5-dd58-f30a5c16624f"
      },
      "execution_count": null,
      "outputs": [
        {
          "output_type": "stream",
          "name": "stdout",
          "text": [
            "/content/drive/MyDrive/C247-NNDL\n"
          ]
        }
      ]
    },
    {
      "cell_type": "markdown",
      "source": [
        "# IMPORTS"
      ],
      "metadata": {
        "id": "0qsndJ9PzbZq"
      }
    },
    {
      "cell_type": "code",
      "source": [
        "import numpy as np\n",
        "import matplotlib.pyplot as plt\n",
        "from tqdm import tqdm\n",
        "\n",
        "from matplotlib.collections import LineCollection\n",
        "from numpy.random import choice\n",
        "\n",
        "from sklearn.metrics import accuracy_score\n",
        "\n",
        "%pylab inline\n",
        "\n",
        "import torch\n",
        "import torch.nn as nn\n",
        "import torchvision\n",
        "import torchvision.models as models\n",
        "import torchvision.transforms as T\n",
        "import torch.nn.functional as F\n",
        "\n",
        "from torchsummary import summary\n",
        "\n",
        "from torch.utils.data import Dataset, DataLoader\n",
        "from torch.utils.tensorboard import SummaryWriter\n",
        "\n",
        "writer = SummaryWriter(log_dir=\"Results/runs\")\n",
        "device = torch.device(\"cuda:0\" if torch.cuda.is_available() else \"cpu\")"
      ],
      "metadata": {
        "colab": {
          "base_uri": "https://localhost:8080/"
        },
        "id": "OaIUyjExzUq2",
        "outputId": "ff2ed70c-957c-4152-a55f-e8601981ce10"
      },
      "execution_count": null,
      "outputs": [
        {
          "output_type": "stream",
          "name": "stdout",
          "text": [
            "Populating the interactive namespace from numpy and matplotlib\n"
          ]
        }
      ]
    },
    {
      "cell_type": "markdown",
      "source": [
        "# DATA PREPROCESSING AND RESHAPING"
      ],
      "metadata": {
        "id": "MHNlNIW3_zEN"
      }
    },
    {
      "cell_type": "code",
      "source": [
        "## Loading the numpy arrays corresponding to the EEG dataset\n",
        "\n",
        "X_test = np.load(\"./Dataset/X_test.npy\")\n",
        "y_test = np.load(\"./Dataset/y_test.npy\")\n",
        "person_train_valid = np.load(\"./Dataset/person_train_valid.npy\")\n",
        "X_train_valid = np.load(\"./Dataset/X_train_valid.npy\")\n",
        "y_train_valid = np.load(\"./Dataset/y_train_valid.npy\")\n",
        "person_test = np.load(\"./Dataset/person_test.npy\")\n",
        "\n",
        "## Printing the shapes of the numpy arrays\n",
        "\n",
        "print ('Training/Valid data shape: {}'.format(X_train_valid.shape))\n",
        "print ('Test data shape: {}'.format(X_test.shape))\n",
        "print ('Training/Valid target shape: {}'.format(y_train_valid.shape))\n",
        "print ('Test target shape: {}'.format(y_test.shape))\n",
        "print ('Person train/valid shape: {}'.format(person_train_valid.shape))\n",
        "print ('Person test shape: {}'.format(person_test.shape))"
      ],
      "metadata": {
        "colab": {
          "base_uri": "https://localhost:8080/"
        },
        "id": "iUrXl5r3zZ-V",
        "outputId": "1eab733a-e9f5-45d8-a458-553aed00e700"
      },
      "execution_count": null,
      "outputs": [
        {
          "output_type": "stream",
          "name": "stdout",
          "text": [
            "Training/Valid data shape: (2115, 22, 1000)\n",
            "Test data shape: (443, 22, 1000)\n",
            "Training/Valid target shape: (2115,)\n",
            "Test target shape: (443,)\n",
            "Person train/valid shape: (2115, 1)\n",
            "Person test shape: (443, 1)\n"
          ]
        }
      ]
    },
    {
      "cell_type": "code",
      "source": [
        "## Adjusting the labels to {0,1,2,3}\n",
        "\n",
        "# Cue onset left - 0\n",
        "# Cue onset right - 1\n",
        "# Cue onset foot - 2\n",
        "# Cue onset tongue - 3\n",
        "\n",
        "y_train_valid -= 769\n",
        "y_test -= 769"
      ],
      "metadata": {
        "id": "1xsYMtmfzpS1"
      },
      "execution_count": null,
      "outputs": []
    },
    {
      "cell_type": "markdown",
      "source": [
        "# DATA PREPROCESSING AND AUGMENTATION"
      ],
      "metadata": {
        "id": "hMPEuEtME9wr"
      }
    },
    {
      "cell_type": "code",
      "source": [
        "\n",
        "## Visualizing the data\n",
        "\n",
        "ch_data = X_train_valid[:,8,:]\n",
        "\n",
        "\n",
        "class_0_ind = np.where(y_train_valid == 0)\n",
        "ch_data_class_0 = ch_data[class_0_ind]\n",
        "avg_ch_data_class_0 = np.mean(ch_data_class_0,axis=0)\n",
        "\n",
        "\n",
        "class_1_ind = np.where(y_train_valid == 1)\n",
        "ch_data_class_1 = ch_data[class_1_ind]\n",
        "avg_ch_data_class_1 = np.mean(ch_data_class_1,axis=0)\n",
        "\n",
        "class_2_ind = np.where(y_train_valid == 2)\n",
        "ch_data_class_2 = ch_data[class_2_ind]\n",
        "avg_ch_data_class_2 = np.mean(ch_data_class_2,axis=0)\n",
        "\n",
        "class_3_ind = np.where(y_train_valid == 3)\n",
        "ch_data_class_3 = ch_data[class_3_ind]\n",
        "avg_ch_data_class_3 = np.mean(ch_data_class_3,axis=0)\n",
        "\n",
        "\n",
        "plt.plot(np.arange(1000),avg_ch_data_class_0)\n",
        "plt.plot(np.arange(1000),avg_ch_data_class_1)\n",
        "plt.plot(np.arange(1000),avg_ch_data_class_2)\n",
        "plt.plot(np.arange(1000),avg_ch_data_class_3)\n",
        "plt.axvline(x=500, label='line at t=500',c='cyan')\n",
        "\n",
        "plt.legend([\"Cue Onset left\", \"Cue Onset right\", \"Cue onset foot\", \"Cue onset tongue\"])"
      ],
      "metadata": {
        "colab": {
          "base_uri": "https://localhost:8080/",
          "height": 282
        },
        "id": "21PwKZluE8v4",
        "outputId": "1e5f4ccf-a188-4cb0-bfbd-403bd034f41b"
      },
      "execution_count": null,
      "outputs": [
        {
          "output_type": "execute_result",
          "data": {
            "text/plain": [
              "<matplotlib.legend.Legend at 0x7faf19666ad0>"
            ]
          },
          "metadata": {},
          "execution_count": 6
        },
        {
          "output_type": "display_data",
          "data": {
            "text/plain": [
              "<Figure size 432x288 with 1 Axes>"
            ],
            "image/png": "[encoded data removed]"
          },
          "metadata": {
            "needs_background": "light"
          }
        }
      ]
    },
    {
      "cell_type": "code",
      "source": [
        "def data_prep(X,y,sub_sample,average,noise):\n",
        "    \n",
        "    total_X = None\n",
        "    total_y = None\n",
        "    \n",
        "    # Trimming the data (sample,22,1000) -> (sample,22,500)\n",
        "    X = X[:,:,0:500]\n",
        "    print('Shape of X after trimming:',X.shape)\n",
        "    \n",
        "    # Maxpooling the data (sample,22,1000) -> (sample,22,500/sub_sample)\n",
        "    X_max = np.max(X.reshape(X.shape[0], X.shape[1], -1, sub_sample), axis=3)\n",
        "    \n",
        "    \n",
        "    total_X = X_max\n",
        "    total_y = y\n",
        "    print('Shape of X after maxpooling:',total_X.shape)\n",
        "    \n",
        "    # Averaging + noise \n",
        "    X_average = np.mean(X.reshape(X.shape[0], X.shape[1], -1, average),axis=3)\n",
        "    X_average = X_average + np.random.normal(0.0, 0.5, X_average.shape)\n",
        "    \n",
        "    total_X = np.vstack((total_X, X_average))\n",
        "    total_y = np.hstack((total_y, y))\n",
        "    print('Shape of X after averaging+noise and concatenating:',total_X.shape)\n",
        "    \n",
        "    # Subsampling\n",
        "    \n",
        "    for i in range(sub_sample):\n",
        "        \n",
        "        X_subsample = X[:, :, i::sub_sample] + \\\n",
        "                            (np.random.normal(0.0, 0.5, X[:, :,i::sub_sample].shape) if noise else 0.0)\n",
        "            \n",
        "        total_X = np.vstack((total_X, X_subsample))\n",
        "        total_y = np.hstack((total_y, y))\n",
        "        \n",
        "    \n",
        "    print('Shape of X after subsampling and concatenating:',total_X.shape)\n",
        "    return total_X,total_y"
      ],
      "metadata": {
        "id": "1E_BSM8CErRQ"
      },
      "execution_count": null,
      "outputs": []
    },
    {
      "cell_type": "code",
      "source": [
        "## Preprocessing the dataset\n",
        "\n",
        "X_train_valid_prep,y_train_valid_prep = data_prep(X_train_valid,y_train_valid,2,2,True)\n",
        "X_test_prep,y_test_prep = data_prep(X_test,y_test,2,2,True)\n",
        "\n",
        "print(X_train_valid_prep.shape)\n",
        "print(y_train_valid_prep.shape)\n",
        "print(X_test_prep.shape)\n",
        "print(y_test_prep.shape)"
      ],
      "metadata": {
        "colab": {
          "base_uri": "https://localhost:8080/"
        },
        "id": "aJOjNka_E0uP",
        "outputId": "b54be203-4028-4501-ce32-bcf708114f07"
      },
      "execution_count": null,
      "outputs": [
        {
          "output_type": "stream",
          "name": "stdout",
          "text": [
            "Shape of X after trimming: (2115, 22, 500)\n",
            "Shape of X after maxpooling: (2115, 22, 250)\n",
            "Shape of X after averaging+noise and concatenating: (4230, 22, 250)\n",
            "Shape of X after subsampling and concatenating: (8460, 22, 250)\n",
            "Shape of X after trimming: (443, 22, 500)\n",
            "Shape of X after maxpooling: (443, 22, 250)\n",
            "Shape of X after averaging+noise and concatenating: (886, 22, 250)\n",
            "Shape of X after subsampling and concatenating: (1772, 22, 250)\n",
            "(8460, 22, 250)\n",
            "(8460,)\n",
            "(1772, 22, 250)\n",
            "(1772,)\n"
          ]
        }
      ]
    },
    {
      "cell_type": "markdown",
      "source": [
        "# CREATING TRAIN AND VALIDATION"
      ],
      "metadata": {
        "id": "4ZGBYC2uFGGz"
      }
    },
    {
      "cell_type": "markdown",
      "source": [
        "WITH PREPROCESSING AND AUGMENTATION"
      ],
      "metadata": {
        "id": "uiovoLVlFZRh"
      }
    },
    {
      "cell_type": "code",
      "source": [
        "## Creating the training and validation sets\n",
        "\n",
        "# First generating the training and validation indices using random splitting\n",
        "ind_valid = np.random.choice(8460, 1500, replace=False)\n",
        "ind_train = np.array(list(set(range(8460)).difference(set(ind_valid))))\n",
        "\n",
        "# Creating the training and validation sets using the generated indices\n",
        "(x_train, x_valid) = X_train_valid_prep[ind_train], X_train_valid_prep[ind_valid] \n",
        "(y_train, y_valid) = y_train_valid_prep[ind_train], y_train_valid_prep[ind_valid]\n",
        "print('Shape of training set:',x_train.shape)\n",
        "print('Shape of validation set:',x_valid.shape)\n",
        "print('Shape of training labels:',y_train.shape)\n",
        "print('Shape of validation labels:',y_valid.shape)\n",
        "\n",
        "X_test = X_test_prep\n",
        "y_test = y_test_prep\n",
        "\n",
        "print('Shape of test set:',X_test.shape)\n",
        "print('Shape of test labels:',y_test.shape)"
      ],
      "metadata": {
        "colab": {
          "base_uri": "https://localhost:8080/"
        },
        "id": "KmQmg0epFX2w",
        "outputId": "9196f8fd-5b18-41d1-f5ec-bf2418d4caf7"
      },
      "execution_count": null,
      "outputs": [
        {
          "output_type": "stream",
          "name": "stdout",
          "text": [
            "Shape of training set: (6960, 22, 250)\n",
            "Shape of validation set: (1500, 22, 250)\n",
            "Shape of training labels: (6960,)\n",
            "Shape of validation labels: (1500,)\n",
            "Shape of test set: (1772, 22, 250)\n",
            "Shape of test labels: (1772,)\n"
          ]
        }
      ]
    },
    {
      "cell_type": "markdown",
      "source": [
        "WITHOUT PREPROCESSING AND AUGMENTATION"
      ],
      "metadata": {
        "id": "UxS47BNWF0dH"
      }
    },
    {
      "cell_type": "code",
      "source": [
        "## Creating the training and validation sets\n",
        "\n",
        "# First generating the training and validation indices using random splitting\n",
        "ind_valid = np.random.choice(2115, 500, replace=False)\n",
        "ind_train = np.array(list(set(range(2115)).difference(set(ind_valid))))\n",
        "\n",
        "# Creating the training and validation sets using the generated indices\n",
        "(x_train, x_valid) = X_train_valid[ind_train], X_train_valid[ind_valid] \n",
        "(y_train, y_valid) = y_train_valid[ind_train], y_train_valid[ind_valid]\n",
        "print('Shape of training set:',x_train.shape)\n",
        "print('Shape of validation set:',x_valid.shape)\n",
        "print('Shape of training labels:',y_train.shape)\n",
        "print('Shape of validation labels:',y_valid.shape)"
      ],
      "metadata": {
        "id": "wP7dyOexzwXj",
        "colab": {
          "base_uri": "https://localhost:8080/"
        },
        "outputId": "01b95602-e06f-486e-bddf-7ce789cf77f1"
      },
      "execution_count": null,
      "outputs": [
        {
          "output_type": "stream",
          "name": "stdout",
          "text": [
            "Shape of training set: (1615, 22, 1000)\n",
            "Shape of validation set: (500, 22, 1000)\n",
            "Shape of training labels: (1615,)\n",
            "Shape of validation labels: (500,)\n"
          ]
        }
      ]
    },
    {
      "cell_type": "code",
      "source": [
        "# Adding width of the segment to be 1\n",
        "\n",
        "x_train = x_train.reshape(x_train.shape[0], x_train.shape[1], x_train.shape[2], 1)\n",
        "x_valid = x_valid.reshape(x_valid.shape[0], x_valid.shape[1], x_train.shape[2], 1)\n",
        "x_test = X_test.reshape(X_test.shape[0], X_test.shape[1], X_test.shape[2], 1)\n",
        "print('Shape of training set after adding width info:',x_train.shape)\n",
        "print('Shape of validation set after adding width info:',x_valid.shape)\n",
        "print('Shape of test set after adding width info:',x_test.shape)"
      ],
      "metadata": {
        "colab": {
          "base_uri": "https://localhost:8080/"
        },
        "id": "dLzQ9W9L5fI0",
        "outputId": "00216888-8e76-4ff3-a900-0fca20b104d8"
      },
      "execution_count": null,
      "outputs": [
        {
          "output_type": "stream",
          "name": "stdout",
          "text": [
            "Shape of training set after adding width info: (6960, 22, 250, 1)\n",
            "Shape of validation set after adding width info: (1500, 22, 250, 1)\n",
            "Shape of test set after adding width info: (1772, 22, 250, 1)\n"
          ]
        }
      ]
    },
    {
      "cell_type": "markdown",
      "source": [
        "# VISUALIZING A SAMPLE EEG DATA"
      ],
      "metadata": {
        "id": "z8nvenni_up-"
      }
    },
    {
      "cell_type": "code",
      "source": [
        "# Taken from: https://notebook.community/joannekoong/neuroscience_tutorials/basic/1.%20Load%20EEG%20data%20and%20plot%20ERP\n",
        "\n",
        "def plot_eeg(EEG, vspace=100, color='k'):   \n",
        "    bases = vspace * np.arange(22)    \n",
        "    EEG = EEG.T + bases\n",
        "    \n",
        "    # Calculate a timeline in seconds, assuming that the sample rate of the EEG recorder was 2048 Hz.\n",
        "    samplerate = 2048\n",
        "    time = arange(EEG.shape[0]) / samplerate\n",
        "    \n",
        "    # Plot EEG versus time\n",
        "    plot(time, EEG, color=color)\n",
        "    grid()\n",
        "    xlabel('Time (s)')\n",
        "    ylabel('Channels')\n",
        "    gca().yaxis.set_ticks(bases)\n",
        "    title('EEG data for a single sample')"
      ],
      "metadata": {
        "id": "H--iTcRq8Ht0"
      },
      "execution_count": null,
      "outputs": []
    },
    {
      "cell_type": "code",
      "source": [
        "figure(figsize=(15,22))\n",
        "plot_eeg(X_train_valid[0])"
      ],
      "metadata": {
        "colab": {
          "base_uri": "https://localhost:8080/",
          "height": 1000
        },
        "id": "pTZQAy6h95su",
        "outputId": "1089c9f0-c29a-4804-997a-9fa996b0b122"
      },
      "execution_count": null,
      "outputs": [
        {
          "output_type": "display_data",
          "data": {
            "text/plain": [
              "<Figure size 1080x1584 with 1 Axes>"
            ],
            "image/png": "[encoded data removed]"
          },
          "metadata": {
            "needs_background": "light"
          }
        }
      ]
    },
    {
      "cell_type": "markdown",
      "source": [
        "# DATALOADER"
      ],
      "metadata": {
        "id": "Cp4RiVO_1NTf"
      }
    },
    {
      "cell_type": "code",
      "source": [
        "# Reshaping the training and validation dataset\n",
        "x_train = np.swapaxes(x_train, 1,3)\n",
        "x_train = np.swapaxes(x_train, 1,2)\n",
        "x_valid = np.swapaxes(x_valid, 1,3)\n",
        "x_valid = np.swapaxes(x_valid, 1,2)\n",
        "x_test = np.swapaxes(x_test, 1,3)\n",
        "x_test = np.swapaxes(x_test, 1,2)\n",
        "print('Shape of training set after dimension reshaping:',x_train.shape)\n",
        "print('Shape of validation set after dimension reshaping:',x_valid.shape)\n",
        "print('Shape of test set after dimension reshaping:',x_test.shape)"
      ],
      "metadata": {
        "colab": {
          "base_uri": "https://localhost:8080/"
        },
        "id": "b2n3BiPEHezw",
        "outputId": "15207b13-64e5-4499-f335-a78a9d46e6ca"
      },
      "execution_count": null,
      "outputs": [
        {
          "output_type": "stream",
          "name": "stdout",
          "text": [
            "Shape of training set after dimension reshaping: (6960, 250, 1, 22)\n",
            "Shape of validation set after dimension reshaping: (1500, 250, 1, 22)\n",
            "Shape of test set after dimension reshaping: (1772, 250, 1, 22)\n"
          ]
        }
      ]
    },
    {
      "cell_type": "code",
      "source": [
        "class LoadData(Dataset):\n",
        "    def __init__(self, data, labels):\n",
        "        self.transform = T.Compose([T.ToTensor(),\n",
        "                                    T.Normalize((0.5), (0.5))\n",
        "                                    ])\n",
        "        self.data = data\n",
        "        self.labels = labels\n",
        "\n",
        "    def __len__(self) -> int:\n",
        "        return len(self.data)\n",
        "    \n",
        "    def __getitem__(self, index: int):\n",
        "        input_data = self.data[index]\n",
        "        input_data = self.transform(input_data)\n",
        "        input_label = self.labels[index]\n",
        "        return (input_data, input_label)"
      ],
      "metadata": {
        "id": "e8abe4DA1M20"
      },
      "execution_count": null,
      "outputs": []
    },
    {
      "cell_type": "code",
      "source": [
        "train_dataset = LoadData(data=x_train, labels=y_train)\n",
        "val_dataset = LoadData(data=x_valid, labels=y_valid)\n",
        "train_dl = DataLoader(train_dataset, batch_size=16, num_workers=2,pin_memory=True)\n",
        "val_dl = DataLoader(val_dataset, batch_size=16, num_workers=2,pin_memory=True)\n",
        "\n",
        "data = next(iter(train_dl))\n",
        "input_data, input_labels = data\n",
        "print(input_data.shape,  input_labels.shape)\n",
        "print(len(train_dl), len(val_dl))"
      ],
      "metadata": {
        "colab": {
          "base_uri": "https://localhost:8080/"
        },
        "id": "eqBINydo3NQy",
        "outputId": "e916cdf4-7543-452e-e3a5-7d328360a70a"
      },
      "execution_count": null,
      "outputs": [
        {
          "output_type": "stream",
          "name": "stdout",
          "text": [
            "torch.Size([16, 22, 250, 1]) torch.Size([16])\n",
            "435 94\n"
          ]
        }
      ]
    },
    {
      "cell_type": "markdown",
      "source": [
        "# BASIC CNN MODEL"
      ],
      "metadata": {
        "id": "WuQ10DC_DF1u"
      }
    },
    {
      "cell_type": "code",
      "source": [
        "class BasicCNNModel(nn.Module):\n",
        "    def __init__(self):\n",
        "        super(BasicCNNModel, self).__init__()\n",
        "        self.conv1 = nn.Conv2d(22, 25, (10, 1), stride=1, padding=\"same\")\n",
        "        self.bnorm1 = nn.BatchNorm2d(25)\n",
        "        self.elu1 = nn.ELU()\n",
        "        self.maxpool1 = nn.MaxPool2d((3, 1))\n",
        "        self.dropout1 = nn.Dropout(p=0.5)\n",
        "\n",
        "        self.conv2 = nn.Conv2d(25, 50, (10, 1), stride=1, padding=\"same\")\n",
        "        self.bnorm2 = nn.BatchNorm2d(50)\n",
        "        self.elu2 = nn.ELU()\n",
        "        self.maxpool2 = nn.MaxPool2d((3, 1))\n",
        "        self.dropout2 = nn.Dropout(p=0.5)\n",
        "\n",
        "        self.conv3 = nn.Conv2d(50, 100, (10, 1), stride=1, padding=\"same\")\n",
        "        self.bnorm3 = nn.BatchNorm2d(100)\n",
        "        self.elu3 = nn.ELU()\n",
        "        self.maxpool3 = nn.MaxPool2d((3, 1))\n",
        "        self.dropout3 = nn.Dropout(p=0.5)\n",
        "\n",
        "        self.conv4 = nn.Conv2d(100, 200, (10, 1), stride=1, padding=\"same\")\n",
        "        self.bnorm4 = nn.BatchNorm2d(200)\n",
        "        self.elu4 = nn.ELU()\n",
        "        self.maxpool4 = nn.MaxPool2d((3, 1))\n",
        "        self.dropout4 = nn.Dropout(p=0.5)  \n",
        "        \n",
        "        self.fc1 = nn.Linear(600, 4)    \n",
        "\n",
        "    def forward(self, x):\n",
        "        h = x\n",
        "        h = self.conv1(h)\n",
        "        h = self.bnorm1(h)\n",
        "        h = self.elu1(h)\n",
        "        h = self.maxpool1(h)\n",
        "        h = self.dropout1(h)\n",
        "\n",
        "        h = self.conv2(h)\n",
        "        h = self.bnorm2(h)\n",
        "        h = self.elu2(h)\n",
        "        h = self.maxpool2(h)\n",
        "        h = self.dropout2(h)\n",
        "\n",
        "        h = self.conv3(h) \n",
        "        h = self.bnorm3(h)\n",
        "        h = self.elu3(h)\n",
        "        h = self.maxpool3(h)\n",
        "        h = self.dropout3(h)\n",
        "\n",
        "        h = self.conv4(h) \n",
        "        h = self.bnorm4(h)\n",
        "        h = self.elu4(h)\n",
        "        h = self.maxpool4(h)\n",
        "        h = self.dropout4(h)\n",
        "\n",
        "        h = torch.flatten(h, 1)\n",
        "\n",
        "        h = self.fc1(h)\n",
        "\n",
        "        return h\n"
      ],
      "metadata": {
        "id": "I3ubcn2U5Sj4"
      },
      "execution_count": null,
      "outputs": []
    },
    {
      "cell_type": "markdown",
      "source": [
        "# DEEPCONVNET"
      ],
      "metadata": {
        "id": "Vx9kjF-YkvCV"
      }
    },
    {
      "cell_type": "code",
      "source": [
        "# https://arxiv.org/pdf/1703.05051.pdf\n",
        "\n",
        "class DeepConvNet(nn.Module):\n",
        "    def __init__(self):\n",
        "        super(DeepConvNet, self).__init__()\n",
        "        self.conv1 = nn.Conv2d(1, 25, (1, 5), stride=1, padding=0)\n",
        "        self.conv2 = nn.Conv2d(18, 25, (25, 22), stride=1, padding=0)\n",
        "        self.bnorm1 = nn.BatchNorm2d(25)\n",
        "        self.elu1 = nn.ELU()\n",
        "        self.maxpool1 = nn.MaxPool2d(kernel_size=(2, 1), stride=(2, 1))\n",
        "        self.dropout1 = nn.Dropout(p=0.5)\n",
        "\n",
        "        self.conv3 = nn.Conv2d(25, 50, (5, 1), stride=1, padding=0)\n",
        "        self.bnorm2 = nn.BatchNorm2d(50)\n",
        "        self.elu2 = nn.ELU()\n",
        "        self.maxpool2 = nn.MaxPool2d(kernel_size=(2, 1), stride=(2, 1))\n",
        "        self.dropout2 = nn.Dropout(p=0.5)\n",
        "\n",
        "        self.conv4 = nn.Conv2d(50, 100, (5, 1), stride=1, padding=0)\n",
        "        self.bnorm3 = nn.BatchNorm2d(100)\n",
        "        self.elu3 = nn.ELU()\n",
        "        self.maxpool3 = nn.MaxPool2d(kernel_size=(2, 1), stride=(2, 1))\n",
        "        self.dropout3 = nn.Dropout(p=0.5)\n",
        "\n",
        "        self.conv5 = nn.Conv2d(100, 200, (5, 1), stride=1, padding=0)\n",
        "        self.bnorm4 = nn.BatchNorm2d(200)\n",
        "        self.elu4 = nn.ELU()\n",
        "        self.maxpool4 = nn.MaxPool2d(kernel_size=(2, 1), stride=(2, 1))\n",
        "        self.dropout4 = nn.Dropout(p=0.5)\n",
        "\n",
        "        self.fc1 = nn.Linear(8000, 4)\n",
        "        self.softmax = nn.Softmax()\n",
        "\n",
        "    def forward(self, x):\n",
        "        h = x\n",
        "        h = h.permute(0, 3, 2, 1)\n",
        "        h = self.conv1(h)\n",
        "        h = h.permute(0, 3, 2, 1)\n",
        "        h = self.conv2(h)\n",
        "        h = self.bnorm1(h)\n",
        "        h = self.elu1(h)\n",
        "        h = self.maxpool1(h)\n",
        "        h = self.dropout1(h)\n",
        "\n",
        "        h = self.conv3(h)\n",
        "        h = self.bnorm2(h)\n",
        "        h = self.elu2(h)\n",
        "        h = self.maxpool2(h)\n",
        "        h = self.dropout2(h)\n",
        "\n",
        "        h = self.conv4(h) \n",
        "        h = self.bnorm3(h)\n",
        "        h = self.elu3(h)\n",
        "        h = self.maxpool3(h)\n",
        "        h = self.dropout3(h)\n",
        "\n",
        "        h = self.conv5(h) \n",
        "        h = self.bnorm4(h)\n",
        "        h = self.elu4(h)\n",
        "        h = self.maxpool4(h)\n",
        "        h = self.dropout4(h)\n",
        "\n",
        "        h = torch.flatten(h, 1)\n",
        "\n",
        "        h = self.fc1(h)\n",
        "        h = self.softmax(h)\n",
        "\n",
        "        return h"
      ],
      "metadata": {
        "id": "dC5W2kq4zY0N"
      },
      "execution_count": null,
      "outputs": []
    },
    {
      "cell_type": "markdown",
      "source": [
        "# SHALLOWCONVNET"
      ],
      "metadata": {
        "id": "ky2vDp0Vi06n"
      }
    },
    {
      "cell_type": "code",
      "source": [
        "# https://arxiv.org/pdf/1703.05051.pdf\n",
        "\n",
        "class ShallowConvNet(nn.Module):\n",
        "    def __init__(self):\n",
        "        super(ShallowConvNet, self).__init__()\n",
        "        self.conv1 = nn.Conv2d(1, 40, (1, 13), stride=1, padding=0)\n",
        "        self.conv2 = nn.Conv2d(10, 40, (40, 22), stride=1, padding=0)\n",
        "        self.bnorm1 = nn.BatchNorm2d(40)\n",
        "        self.avgpool1 = nn.AvgPool2d(kernel_size=(35, 1), stride=(7, 1))\n",
        "        self.dropout1 = nn.Dropout(p=0.5)\n",
        "        self.fc1 = nn.Linear(19760, 4)\n",
        "        self.softmax = nn.Softmax()\n",
        "\n",
        "    def forward(self, x):\n",
        "        h = x\n",
        "        h = h.permute(0, 3, 2, 1)\n",
        "        h = self.conv1(h)\n",
        "        h = h.permute(0, 3, 2, 1)\n",
        "        h = self.conv2(h)\n",
        "        h = self.bnorm1(h)\n",
        "        h = torch.square(h)\n",
        "        h = self.avgpool1(h)\n",
        "        h = torch.log(h)\n",
        "        h = self.dropout1(h)\n",
        "\n",
        "        h = torch.flatten(h, 1)\n",
        "\n",
        "        h = self.fc1(h)\n",
        "        h = self.softmax(h)\n",
        "\n",
        "        return h"
      ],
      "metadata": {
        "id": "FeRZlz-cNGMh"
      },
      "execution_count": null,
      "outputs": []
    },
    {
      "cell_type": "code",
      "source": [
        "def weights_init(m):\n",
        "    classname = m.__class__.__name__\n",
        "    if isinstance(m, nn.Conv2d):\n",
        "        nn.init.normal_(m.weight.data, 0.0, 0.02)\n",
        "    elif isinstance(m, nn.BatchNorm2d):\n",
        "        nn.init.normal_(m.weight.data, 1.0, 0.02)\n",
        "        nn.init.constant_(m.bias.data, 0)"
      ],
      "metadata": {
        "id": "-rFHJrT2XzeM"
      },
      "execution_count": null,
      "outputs": []
    },
    {
      "cell_type": "code",
      "source": [
        "class Trainer:\n",
        "    def __init__(self, epochs, batch_size, learning_rate, num_workers, train_data, valid_data, train_labels, valid_labels, patience, validate_after):\n",
        "        self.epochs = epochs\n",
        "        self.batch_size = batch_size\n",
        "        self.learning_rate = learning_rate\n",
        "        self.num_workers = num_workers\n",
        "        self.train_data = train_data\n",
        "        self.valid_data = valid_data\n",
        "        self.train_labels = train_labels\n",
        "        self.valid_labels = valid_labels\n",
        "        self.patience = patience\n",
        "        self.validate_after = validate_after\n",
        "\n",
        "    def train(self):\n",
        "            \n",
        "        the_last_loss = 100\n",
        "        trigger_times = 0\n",
        "        global_val_loss_minima = 100\n",
        "            \n",
        "        train_dataset = LoadData(data=self.train_data, labels=self.train_labels)\n",
        "        train_dataloader = DataLoader(train_dataset, batch_size=self.batch_size, num_workers=self.num_workers,pin_memory=True)\n",
        "        \n",
        "        # CHANGE CLASS HERE\n",
        "        model = DeepConvNet().to(device)\n",
        "        model.double()\n",
        "        model.apply(weights_init)\n",
        "        \n",
        "        criterion = torch.nn.CrossEntropyLoss().to(device)\n",
        "        optimizer = torch.optim.Adam(model.parameters(),lr=self.learning_rate, weight_decay=1e-6)\n",
        "\n",
        "        for epoch in range(self.epochs):\n",
        "            print(\"Starting Training Epoch \" + str(epoch + 1))\n",
        "            avg_loss = 0.0\n",
        "            model.train()\n",
        "            for i, data in enumerate(tqdm(train_dataloader)):\n",
        "                inputs, targets = data\n",
        "                inputs = inputs.to(device)\n",
        "                targets = targets.to(device, dtype=torch.long)\n",
        "                optimizer.zero_grad()\n",
        "\n",
        "                outputs = model(inputs)\n",
        "\n",
        "                loss = criterion(outputs, targets)\n",
        "\n",
        "                writer.add_scalar(\"Loss/train\", loss, epoch)\n",
        "\n",
        "                loss.backward()\n",
        "                optimizer.step()\n",
        "\n",
        "                avg_loss += loss.item()\n",
        "\n",
        "            print(f'Epoch {epoch + 1} \\t\\t Training Loss: {\\\n",
        "                avg_loss / len(train_dataloader)}')\n",
        "            \n",
        "            if (epoch + 1) % self.validate_after == 0:\n",
        "                val_loss, val_len = self.validate(model, criterion, epoch)\n",
        "                print(f'Epoch {epoch + 1} \\t\\t Validation Loss: {\\\n",
        "                    val_loss / val_len}')\n",
        "                global_val_loss_minima = min(global_val_loss_minima, val_loss)\n",
        "                if val_loss > global_val_loss_minima:\n",
        "                    trigger_times += 1\n",
        "                    print('trigger times:', trigger_times)\n",
        "\n",
        "                    if trigger_times >= self.patience:\n",
        "                        print('Early stopping!\\nStart to test process.')\n",
        "                        return best_model\n",
        "\n",
        "                else:\n",
        "                    print('trigger times: 0')\n",
        "                    trigger_times = 0\n",
        "                    best_model = model\n",
        "\n",
        "                the_last_loss = val_loss\n",
        "                \n",
        "            torch.save(model.state_dict(), './Results/Models/saved_model_' + str(epoch + 1) + '.pth')\n",
        "\n",
        "        return model\n",
        "\n",
        "\n",
        "    def validate(self, model, criterion, epoch):\n",
        "        model.eval()\n",
        "        with torch.no_grad():\n",
        "            valid_loss = 0.0\n",
        "            valid_dataset = LoadData(data=self.valid_data, labels=self.valid_labels)\n",
        "            valid_dataloader = DataLoader(valid_dataset, batch_size=self.batch_size, num_workers=self.num_workers,pin_memory=True)\n",
        "            for i, data in enumerate(valid_dataloader):\n",
        "                inputs, targets = data\n",
        "                inputs = inputs.to(device)\n",
        "                targets = targets.to(device, dtype=torch.long)\n",
        "\n",
        "                outputs = model(inputs)\n",
        "\n",
        "                loss = criterion(outputs, targets)\n",
        "                writer.add_scalar(\"Loss/validation\", loss, epoch)\n",
        "\n",
        "                valid_loss += loss.item()\n",
        "        return valid_loss, len(valid_dataloader)"
      ],
      "metadata": {
        "id": "0DVnSVOL_PXW"
      },
      "execution_count": null,
      "outputs": []
    },
    {
      "cell_type": "code",
      "source": [
        "trainer = Trainer(epochs = 500, batch_size = 256, learning_rate = 0.0001, num_workers = 2, train_data=x_train, valid_data=x_valid, train_labels=y_train, valid_labels=y_valid, patience=10, validate_after=1)"
      ],
      "metadata": {
        "id": "er0bdwO-DdEa"
      },
      "execution_count": null,
      "outputs": []
    },
    {
      "cell_type": "code",
      "source": [
        "best_model = trainer.train()\n",
        "writer.flush()"
      ],
      "metadata": {
        "id": "5vPfdJakDhjz",
        "colab": {
          "base_uri": "https://localhost:8080/"
        },
        "outputId": "82a0ae15-64ed-4e4b-a39d-db1b57bd5c16"
      },
      "execution_count": null,
      "outputs": [
        {
          "output_type": "stream",
          "name": "stdout",
          "text": [
            "Starting Training Epoch 1\n"
          ]
        },
        {
          "output_type": "stream",
          "name": "stderr",
          "text": [
            "  0%|          | 0/7 [00:00<?, ?it/s]/usr/local/lib/python3.7/dist-packages/ipykernel_launcher.py:66: UserWarning: Implicit dimension choice for softmax has been deprecated. Change the call to include dim=X as an argument.\n",
            "100%|██████████| 7/7 [00:57<00:00,  8.28s/it]"
          ]
        },
        {
          "output_type": "stream",
          "name": "stdout",
          "text": [
            "Epoch 1 \t\t Training Loss: 1.4144575767111311\n"
          ]
        },
        {
          "output_type": "stream",
          "name": "stderr",
          "text": [
            "\n"
          ]
        },
        {
          "output_type": "stream",
          "name": "stdout",
          "text": [
            "Epoch 1 \t\t Validation Loss: 1.3811128257150487\n",
            "trigger times: 0\n",
            "Starting Training Epoch 2\n"
          ]
        },
        {
          "output_type": "stream",
          "name": "stderr",
          "text": [
            "100%|██████████| 7/7 [00:57<00:00,  8.28s/it]"
          ]
        },
        {
          "output_type": "stream",
          "name": "stdout",
          "text": [
            "Epoch 2 \t\t Training Loss: 1.387196293244714\n"
          ]
        },
        {
          "output_type": "stream",
          "name": "stderr",
          "text": [
            "\n"
          ]
        },
        {
          "output_type": "stream",
          "name": "stdout",
          "text": [
            "Epoch 2 \t\t Validation Loss: 1.3804300296076324\n",
            "trigger times: 0\n",
            "Starting Training Epoch 3\n"
          ]
        },
        {
          "output_type": "stream",
          "name": "stderr",
          "text": [
            "100%|██████████| 7/7 [00:57<00:00,  8.28s/it]"
          ]
        },
        {
          "output_type": "stream",
          "name": "stdout",
          "text": [
            "Epoch 3 \t\t Training Loss: 1.3708565565272042\n"
          ]
        },
        {
          "output_type": "stream",
          "name": "stderr",
          "text": [
            "\n"
          ]
        },
        {
          "output_type": "stream",
          "name": "stdout",
          "text": [
            "Epoch 3 \t\t Validation Loss: 1.3721667223511482\n",
            "trigger times: 0\n",
            "Starting Training Epoch 4\n"
          ]
        },
        {
          "output_type": "stream",
          "name": "stderr",
          "text": [
            "100%|██████████| 7/7 [00:57<00:00,  8.28s/it]"
          ]
        },
        {
          "output_type": "stream",
          "name": "stdout",
          "text": [
            "Epoch 4 \t\t Training Loss: 1.360175908375788\n"
          ]
        },
        {
          "output_type": "stream",
          "name": "stderr",
          "text": [
            "\n"
          ]
        },
        {
          "output_type": "stream",
          "name": "stdout",
          "text": [
            "Epoch 4 \t\t Validation Loss: 1.369961134388561\n",
            "trigger times: 0\n",
            "Starting Training Epoch 5\n"
          ]
        },
        {
          "output_type": "stream",
          "name": "stderr",
          "text": [
            "100%|██████████| 7/7 [00:57<00:00,  8.28s/it]"
          ]
        },
        {
          "output_type": "stream",
          "name": "stdout",
          "text": [
            "Epoch 5 \t\t Training Loss: 1.3438005050301862\n"
          ]
        },
        {
          "output_type": "stream",
          "name": "stderr",
          "text": [
            "\n"
          ]
        },
        {
          "output_type": "stream",
          "name": "stdout",
          "text": [
            "Epoch 5 \t\t Validation Loss: 1.3530187141828045\n",
            "trigger times: 0\n",
            "Starting Training Epoch 6\n"
          ]
        },
        {
          "output_type": "stream",
          "name": "stderr",
          "text": [
            "100%|██████████| 7/7 [00:57<00:00,  8.27s/it]"
          ]
        },
        {
          "output_type": "stream",
          "name": "stdout",
          "text": [
            "Epoch 6 \t\t Training Loss: 1.3316678339061963\n"
          ]
        },
        {
          "output_type": "stream",
          "name": "stderr",
          "text": [
            "\n"
          ]
        },
        {
          "output_type": "stream",
          "name": "stdout",
          "text": [
            "Epoch 6 \t\t Validation Loss: 1.3549569747109609\n",
            "trigger times: 1\n",
            "Starting Training Epoch 7\n"
          ]
        },
        {
          "output_type": "stream",
          "name": "stderr",
          "text": [
            "100%|██████████| 7/7 [00:57<00:00,  8.28s/it]"
          ]
        },
        {
          "output_type": "stream",
          "name": "stdout",
          "text": [
            "Epoch 7 \t\t Training Loss: 1.31913976410818\n"
          ]
        },
        {
          "output_type": "stream",
          "name": "stderr",
          "text": [
            "\n"
          ]
        },
        {
          "output_type": "stream",
          "name": "stdout",
          "text": [
            "Epoch 7 \t\t Validation Loss: 1.3392913138918472\n",
            "trigger times: 0\n",
            "Starting Training Epoch 8\n"
          ]
        },
        {
          "output_type": "stream",
          "name": "stderr",
          "text": [
            "100%|██████████| 7/7 [00:58<00:00,  8.29s/it]"
          ]
        },
        {
          "output_type": "stream",
          "name": "stdout",
          "text": [
            "Epoch 8 \t\t Training Loss: 1.308028802953099\n"
          ]
        },
        {
          "output_type": "stream",
          "name": "stderr",
          "text": [
            "\n"
          ]
        },
        {
          "output_type": "stream",
          "name": "stdout",
          "text": [
            "Epoch 8 \t\t Validation Loss: 1.3408806639571793\n",
            "trigger times: 1\n",
            "Starting Training Epoch 9\n"
          ]
        },
        {
          "output_type": "stream",
          "name": "stderr",
          "text": [
            "100%|██████████| 7/7 [00:57<00:00,  8.28s/it]"
          ]
        },
        {
          "output_type": "stream",
          "name": "stdout",
          "text": [
            "Epoch 9 \t\t Training Loss: 1.2944043082796528\n"
          ]
        },
        {
          "output_type": "stream",
          "name": "stderr",
          "text": [
            "\n"
          ]
        },
        {
          "output_type": "stream",
          "name": "stdout",
          "text": [
            "Epoch 9 \t\t Validation Loss: 1.3357164653376705\n",
            "trigger times: 0\n",
            "Starting Training Epoch 10\n"
          ]
        },
        {
          "output_type": "stream",
          "name": "stderr",
          "text": [
            "100%|██████████| 7/7 [00:57<00:00,  8.28s/it]"
          ]
        },
        {
          "output_type": "stream",
          "name": "stdout",
          "text": [
            "Epoch 10 \t\t Training Loss: 1.2874499788955984\n"
          ]
        },
        {
          "output_type": "stream",
          "name": "stderr",
          "text": [
            "\n"
          ]
        },
        {
          "output_type": "stream",
          "name": "stdout",
          "text": [
            "Epoch 10 \t\t Validation Loss: 1.337832515658857\n",
            "trigger times: 1\n",
            "Starting Training Epoch 11\n"
          ]
        },
        {
          "output_type": "stream",
          "name": "stderr",
          "text": [
            "100%|██████████| 7/7 [00:58<00:00,  8.29s/it]"
          ]
        },
        {
          "output_type": "stream",
          "name": "stdout",
          "text": [
            "Epoch 11 \t\t Training Loss: 1.2841923898929732\n"
          ]
        },
        {
          "output_type": "stream",
          "name": "stderr",
          "text": [
            "\n"
          ]
        },
        {
          "output_type": "stream",
          "name": "stdout",
          "text": [
            "Epoch 11 \t\t Validation Loss: 1.3362023972953467\n",
            "trigger times: 2\n",
            "Starting Training Epoch 12\n"
          ]
        },
        {
          "output_type": "stream",
          "name": "stderr",
          "text": [
            "100%|██████████| 7/7 [00:57<00:00,  8.28s/it]"
          ]
        },
        {
          "output_type": "stream",
          "name": "stdout",
          "text": [
            "Epoch 12 \t\t Training Loss: 1.2677584030853182\n"
          ]
        },
        {
          "output_type": "stream",
          "name": "stderr",
          "text": [
            "\n"
          ]
        },
        {
          "output_type": "stream",
          "name": "stdout",
          "text": [
            "Epoch 12 \t\t Validation Loss: 1.3377392424236128\n",
            "trigger times: 3\n",
            "Starting Training Epoch 13\n"
          ]
        },
        {
          "output_type": "stream",
          "name": "stderr",
          "text": [
            "100%|██████████| 7/7 [00:57<00:00,  8.27s/it]"
          ]
        },
        {
          "output_type": "stream",
          "name": "stdout",
          "text": [
            "Epoch 13 \t\t Training Loss: 1.250163641116328\n"
          ]
        },
        {
          "output_type": "stream",
          "name": "stderr",
          "text": [
            "\n"
          ]
        },
        {
          "output_type": "stream",
          "name": "stdout",
          "text": [
            "Epoch 13 \t\t Validation Loss: 1.3275945736423704\n",
            "trigger times: 0\n",
            "Starting Training Epoch 14\n"
          ]
        },
        {
          "output_type": "stream",
          "name": "stderr",
          "text": [
            "100%|██████████| 7/7 [00:57<00:00,  8.28s/it]"
          ]
        },
        {
          "output_type": "stream",
          "name": "stdout",
          "text": [
            "Epoch 14 \t\t Training Loss: 1.2417408560340013\n"
          ]
        },
        {
          "output_type": "stream",
          "name": "stderr",
          "text": [
            "\n"
          ]
        },
        {
          "output_type": "stream",
          "name": "stdout",
          "text": [
            "Epoch 14 \t\t Validation Loss: 1.332284895296843\n",
            "trigger times: 1\n",
            "Starting Training Epoch 15\n"
          ]
        },
        {
          "output_type": "stream",
          "name": "stderr",
          "text": [
            "100%|██████████| 7/7 [00:57<00:00,  8.28s/it]"
          ]
        },
        {
          "output_type": "stream",
          "name": "stdout",
          "text": [
            "Epoch 15 \t\t Training Loss: 1.2348886059400088\n"
          ]
        },
        {
          "output_type": "stream",
          "name": "stderr",
          "text": [
            "\n"
          ]
        },
        {
          "output_type": "stream",
          "name": "stdout",
          "text": [
            "Epoch 15 \t\t Validation Loss: 1.3213586198140264\n",
            "trigger times: 0\n",
            "Starting Training Epoch 16\n"
          ]
        },
        {
          "output_type": "stream",
          "name": "stderr",
          "text": [
            "100%|██████████| 7/7 [00:57<00:00,  8.28s/it]"
          ]
        },
        {
          "output_type": "stream",
          "name": "stdout",
          "text": [
            "Epoch 16 \t\t Training Loss: 1.2224773378993394\n"
          ]
        },
        {
          "output_type": "stream",
          "name": "stderr",
          "text": [
            "\n"
          ]
        },
        {
          "output_type": "stream",
          "name": "stdout",
          "text": [
            "Epoch 16 \t\t Validation Loss: 1.314792114774752\n",
            "trigger times: 0\n",
            "Starting Training Epoch 17\n"
          ]
        },
        {
          "output_type": "stream",
          "name": "stderr",
          "text": [
            "100%|██████████| 7/7 [00:57<00:00,  8.28s/it]"
          ]
        },
        {
          "output_type": "stream",
          "name": "stdout",
          "text": [
            "Epoch 17 \t\t Training Loss: 1.2042385868567032\n"
          ]
        },
        {
          "output_type": "stream",
          "name": "stderr",
          "text": [
            "\n"
          ]
        },
        {
          "output_type": "stream",
          "name": "stdout",
          "text": [
            "Epoch 17 \t\t Validation Loss: 1.306472942707893\n",
            "trigger times: 0\n",
            "Starting Training Epoch 18\n"
          ]
        },
        {
          "output_type": "stream",
          "name": "stderr",
          "text": [
            "100%|██████████| 7/7 [00:57<00:00,  8.28s/it]"
          ]
        },
        {
          "output_type": "stream",
          "name": "stdout",
          "text": [
            "Epoch 18 \t\t Training Loss: 1.197874535390515\n"
          ]
        },
        {
          "output_type": "stream",
          "name": "stderr",
          "text": [
            "\n"
          ]
        },
        {
          "output_type": "stream",
          "name": "stdout",
          "text": [
            "Epoch 18 \t\t Validation Loss: 1.3089427855172757\n",
            "trigger times: 1\n",
            "Starting Training Epoch 19\n"
          ]
        },
        {
          "output_type": "stream",
          "name": "stderr",
          "text": [
            "100%|██████████| 7/7 [00:58<00:00,  8.29s/it]"
          ]
        },
        {
          "output_type": "stream",
          "name": "stdout",
          "text": [
            "Epoch 19 \t\t Training Loss: 1.1928251450290919\n"
          ]
        },
        {
          "output_type": "stream",
          "name": "stderr",
          "text": [
            "\n"
          ]
        },
        {
          "output_type": "stream",
          "name": "stdout",
          "text": [
            "Epoch 19 \t\t Validation Loss: 1.2986303636120127\n",
            "trigger times: 0\n",
            "Starting Training Epoch 20\n"
          ]
        },
        {
          "output_type": "stream",
          "name": "stderr",
          "text": [
            "100%|██████████| 7/7 [00:57<00:00,  8.27s/it]"
          ]
        },
        {
          "output_type": "stream",
          "name": "stdout",
          "text": [
            "Epoch 20 \t\t Training Loss: 1.1712158535005395\n"
          ]
        },
        {
          "output_type": "stream",
          "name": "stderr",
          "text": [
            "\n"
          ]
        },
        {
          "output_type": "stream",
          "name": "stdout",
          "text": [
            "Epoch 20 \t\t Validation Loss: 1.3050399303993208\n",
            "trigger times: 1\n",
            "Starting Training Epoch 21\n"
          ]
        },
        {
          "output_type": "stream",
          "name": "stderr",
          "text": [
            "100%|██████████| 7/7 [00:58<00:00,  8.29s/it]"
          ]
        },
        {
          "output_type": "stream",
          "name": "stdout",
          "text": [
            "Epoch 21 \t\t Training Loss: 1.1671234462318307\n"
          ]
        },
        {
          "output_type": "stream",
          "name": "stderr",
          "text": [
            "\n"
          ]
        },
        {
          "output_type": "stream",
          "name": "stdout",
          "text": [
            "Epoch 21 \t\t Validation Loss: 1.2829942411693167\n",
            "trigger times: 0\n",
            "Starting Training Epoch 22\n"
          ]
        },
        {
          "output_type": "stream",
          "name": "stderr",
          "text": [
            "100%|██████████| 7/7 [00:57<00:00,  8.27s/it]"
          ]
        },
        {
          "output_type": "stream",
          "name": "stdout",
          "text": [
            "Epoch 22 \t\t Training Loss: 1.1544032019258499\n"
          ]
        },
        {
          "output_type": "stream",
          "name": "stderr",
          "text": [
            "\n"
          ]
        },
        {
          "output_type": "stream",
          "name": "stdout",
          "text": [
            "Epoch 22 \t\t Validation Loss: 1.2819746567225643\n",
            "trigger times: 0\n",
            "Starting Training Epoch 23\n"
          ]
        },
        {
          "output_type": "stream",
          "name": "stderr",
          "text": [
            "100%|██████████| 7/7 [00:57<00:00,  8.27s/it]"
          ]
        },
        {
          "output_type": "stream",
          "name": "stdout",
          "text": [
            "Epoch 23 \t\t Training Loss: 1.1418804398366043\n"
          ]
        },
        {
          "output_type": "stream",
          "name": "stderr",
          "text": [
            "\n"
          ]
        },
        {
          "output_type": "stream",
          "name": "stdout",
          "text": [
            "Epoch 23 \t\t Validation Loss: 1.2791055192764618\n",
            "trigger times: 0\n",
            "Starting Training Epoch 24\n"
          ]
        },
        {
          "output_type": "stream",
          "name": "stderr",
          "text": [
            "100%|██████████| 7/7 [00:58<00:00,  8.29s/it]"
          ]
        },
        {
          "output_type": "stream",
          "name": "stdout",
          "text": [
            "Epoch 24 \t\t Training Loss: 1.1285224994838687\n"
          ]
        },
        {
          "output_type": "stream",
          "name": "stderr",
          "text": [
            "\n"
          ]
        },
        {
          "output_type": "stream",
          "name": "stdout",
          "text": [
            "Epoch 24 \t\t Validation Loss: 1.2759042989037166\n",
            "trigger times: 0\n",
            "Starting Training Epoch 25\n"
          ]
        },
        {
          "output_type": "stream",
          "name": "stderr",
          "text": [
            "100%|██████████| 7/7 [00:57<00:00,  8.28s/it]"
          ]
        },
        {
          "output_type": "stream",
          "name": "stdout",
          "text": [
            "Epoch 25 \t\t Training Loss: 1.1152801343818592\n"
          ]
        },
        {
          "output_type": "stream",
          "name": "stderr",
          "text": [
            "\n"
          ]
        },
        {
          "output_type": "stream",
          "name": "stdout",
          "text": [
            "Epoch 25 \t\t Validation Loss: 1.2712095798305494\n",
            "trigger times: 0\n",
            "Starting Training Epoch 26\n"
          ]
        },
        {
          "output_type": "stream",
          "name": "stderr",
          "text": [
            "100%|██████████| 7/7 [00:57<00:00,  8.27s/it]"
          ]
        },
        {
          "output_type": "stream",
          "name": "stdout",
          "text": [
            "Epoch 26 \t\t Training Loss: 1.106422966547885\n"
          ]
        },
        {
          "output_type": "stream",
          "name": "stderr",
          "text": [
            "\n"
          ]
        },
        {
          "output_type": "stream",
          "name": "stdout",
          "text": [
            "Epoch 26 \t\t Validation Loss: 1.2711881438962718\n",
            "trigger times: 0\n",
            "Starting Training Epoch 27\n"
          ]
        },
        {
          "output_type": "stream",
          "name": "stderr",
          "text": [
            "100%|██████████| 7/7 [00:58<00:00,  8.29s/it]"
          ]
        },
        {
          "output_type": "stream",
          "name": "stdout",
          "text": [
            "Epoch 27 \t\t Training Loss: 1.0926245363016776\n"
          ]
        },
        {
          "output_type": "stream",
          "name": "stderr",
          "text": [
            "\n"
          ]
        },
        {
          "output_type": "stream",
          "name": "stdout",
          "text": [
            "Epoch 27 \t\t Validation Loss: 1.2676287147362522\n",
            "trigger times: 0\n",
            "Starting Training Epoch 28\n"
          ]
        },
        {
          "output_type": "stream",
          "name": "stderr",
          "text": [
            "100%|██████████| 7/7 [00:57<00:00,  8.28s/it]"
          ]
        },
        {
          "output_type": "stream",
          "name": "stdout",
          "text": [
            "Epoch 28 \t\t Training Loss: 1.0992209185931168\n"
          ]
        },
        {
          "output_type": "stream",
          "name": "stderr",
          "text": [
            "\n"
          ]
        },
        {
          "output_type": "stream",
          "name": "stdout",
          "text": [
            "Epoch 28 \t\t Validation Loss: 1.2653476383922428\n",
            "trigger times: 0\n",
            "Starting Training Epoch 29\n"
          ]
        },
        {
          "output_type": "stream",
          "name": "stderr",
          "text": [
            "100%|██████████| 7/7 [00:57<00:00,  8.28s/it]"
          ]
        },
        {
          "output_type": "stream",
          "name": "stdout",
          "text": [
            "Epoch 29 \t\t Training Loss: 1.0834802586137013\n"
          ]
        },
        {
          "output_type": "stream",
          "name": "stderr",
          "text": [
            "\n"
          ]
        },
        {
          "output_type": "stream",
          "name": "stdout",
          "text": [
            "Epoch 29 \t\t Validation Loss: 1.2551568488106537\n",
            "trigger times: 0\n",
            "Starting Training Epoch 30\n"
          ]
        },
        {
          "output_type": "stream",
          "name": "stderr",
          "text": [
            "100%|██████████| 7/7 [00:57<00:00,  8.28s/it]"
          ]
        },
        {
          "output_type": "stream",
          "name": "stdout",
          "text": [
            "Epoch 30 \t\t Training Loss: 1.068572523572049\n"
          ]
        },
        {
          "output_type": "stream",
          "name": "stderr",
          "text": [
            "\n"
          ]
        },
        {
          "output_type": "stream",
          "name": "stdout",
          "text": [
            "Epoch 30 \t\t Validation Loss: 1.2622827396031608\n",
            "trigger times: 1\n",
            "Starting Training Epoch 31\n"
          ]
        },
        {
          "output_type": "stream",
          "name": "stderr",
          "text": [
            "100%|██████████| 7/7 [00:57<00:00,  8.27s/it]"
          ]
        },
        {
          "output_type": "stream",
          "name": "stdout",
          "text": [
            "Epoch 31 \t\t Training Loss: 1.0670198159605406\n"
          ]
        },
        {
          "output_type": "stream",
          "name": "stderr",
          "text": [
            "\n"
          ]
        },
        {
          "output_type": "stream",
          "name": "stdout",
          "text": [
            "Epoch 31 \t\t Validation Loss: 1.2545212053783632\n",
            "trigger times: 0\n",
            "Starting Training Epoch 32\n"
          ]
        },
        {
          "output_type": "stream",
          "name": "stderr",
          "text": [
            "100%|██████████| 7/7 [00:57<00:00,  8.28s/it]"
          ]
        },
        {
          "output_type": "stream",
          "name": "stdout",
          "text": [
            "Epoch 32 \t\t Training Loss: 1.0583898492792412\n"
          ]
        },
        {
          "output_type": "stream",
          "name": "stderr",
          "text": [
            "\n"
          ]
        },
        {
          "output_type": "stream",
          "name": "stdout",
          "text": [
            "Epoch 32 \t\t Validation Loss: 1.2581908820748509\n",
            "trigger times: 1\n",
            "Starting Training Epoch 33\n"
          ]
        },
        {
          "output_type": "stream",
          "name": "stderr",
          "text": [
            "100%|██████████| 7/7 [00:57<00:00,  8.28s/it]"
          ]
        },
        {
          "output_type": "stream",
          "name": "stdout",
          "text": [
            "Epoch 33 \t\t Training Loss: 1.0512594007849247\n"
          ]
        },
        {
          "output_type": "stream",
          "name": "stderr",
          "text": [
            "\n"
          ]
        },
        {
          "output_type": "stream",
          "name": "stdout",
          "text": [
            "Epoch 33 \t\t Validation Loss: 1.2454283265413726\n",
            "trigger times: 0\n",
            "Starting Training Epoch 34\n"
          ]
        },
        {
          "output_type": "stream",
          "name": "stderr",
          "text": [
            "100%|██████████| 7/7 [00:58<00:00,  8.29s/it]"
          ]
        },
        {
          "output_type": "stream",
          "name": "stdout",
          "text": [
            "Epoch 34 \t\t Training Loss: 1.0458292048640465\n"
          ]
        },
        {
          "output_type": "stream",
          "name": "stderr",
          "text": [
            "\n"
          ]
        },
        {
          "output_type": "stream",
          "name": "stdout",
          "text": [
            "Epoch 34 \t\t Validation Loss: 1.2472334585681364\n",
            "trigger times: 1\n",
            "Starting Training Epoch 35\n"
          ]
        },
        {
          "output_type": "stream",
          "name": "stderr",
          "text": [
            "100%|██████████| 7/7 [00:57<00:00,  8.27s/it]"
          ]
        },
        {
          "output_type": "stream",
          "name": "stdout",
          "text": [
            "Epoch 35 \t\t Training Loss: 1.0468303280998517\n"
          ]
        },
        {
          "output_type": "stream",
          "name": "stderr",
          "text": [
            "\n"
          ]
        },
        {
          "output_type": "stream",
          "name": "stdout",
          "text": [
            "Epoch 35 \t\t Validation Loss: 1.245002954320659\n",
            "trigger times: 0\n",
            "Starting Training Epoch 36\n"
          ]
        },
        {
          "output_type": "stream",
          "name": "stderr",
          "text": [
            "100%|██████████| 7/7 [00:57<00:00,  8.29s/it]"
          ]
        },
        {
          "output_type": "stream",
          "name": "stdout",
          "text": [
            "Epoch 36 \t\t Training Loss: 1.0450156525435674\n"
          ]
        },
        {
          "output_type": "stream",
          "name": "stderr",
          "text": [
            "\n"
          ]
        },
        {
          "output_type": "stream",
          "name": "stdout",
          "text": [
            "Epoch 36 \t\t Validation Loss: 1.226859520751248\n",
            "trigger times: 0\n",
            "Starting Training Epoch 37\n"
          ]
        },
        {
          "output_type": "stream",
          "name": "stderr",
          "text": [
            "100%|██████████| 7/7 [00:57<00:00,  8.28s/it]"
          ]
        },
        {
          "output_type": "stream",
          "name": "stdout",
          "text": [
            "Epoch 37 \t\t Training Loss: 1.0362027424292855\n"
          ]
        },
        {
          "output_type": "stream",
          "name": "stderr",
          "text": [
            "\n"
          ]
        },
        {
          "output_type": "stream",
          "name": "stdout",
          "text": [
            "Epoch 37 \t\t Validation Loss: 1.2375816480663255\n",
            "trigger times: 1\n",
            "Starting Training Epoch 38\n"
          ]
        },
        {
          "output_type": "stream",
          "name": "stderr",
          "text": [
            "100%|██████████| 7/7 [00:57<00:00,  8.28s/it]"
          ]
        },
        {
          "output_type": "stream",
          "name": "stdout",
          "text": [
            "Epoch 38 \t\t Training Loss: 1.0224600676037379\n"
          ]
        },
        {
          "output_type": "stream",
          "name": "stderr",
          "text": [
            "\n"
          ]
        },
        {
          "output_type": "stream",
          "name": "stdout",
          "text": [
            "Epoch 38 \t\t Validation Loss: 1.227670267243254\n",
            "trigger times: 2\n",
            "Starting Training Epoch 39\n"
          ]
        },
        {
          "output_type": "stream",
          "name": "stderr",
          "text": [
            "100%|██████████| 7/7 [00:57<00:00,  8.27s/it]"
          ]
        },
        {
          "output_type": "stream",
          "name": "stdout",
          "text": [
            "Epoch 39 \t\t Training Loss: 1.0187626039694009\n"
          ]
        },
        {
          "output_type": "stream",
          "name": "stderr",
          "text": [
            "\n"
          ]
        },
        {
          "output_type": "stream",
          "name": "stdout",
          "text": [
            "Epoch 39 \t\t Validation Loss: 1.2232978013875575\n",
            "trigger times: 0\n",
            "Starting Training Epoch 40\n"
          ]
        },
        {
          "output_type": "stream",
          "name": "stderr",
          "text": [
            "100%|██████████| 7/7 [00:57<00:00,  8.28s/it]"
          ]
        },
        {
          "output_type": "stream",
          "name": "stdout",
          "text": [
            "Epoch 40 \t\t Training Loss: 1.0207928155030823\n"
          ]
        },
        {
          "output_type": "stream",
          "name": "stderr",
          "text": [
            "\n"
          ]
        },
        {
          "output_type": "stream",
          "name": "stdout",
          "text": [
            "Epoch 40 \t\t Validation Loss: 1.2221445868765595\n",
            "trigger times: 0\n",
            "Starting Training Epoch 41\n"
          ]
        },
        {
          "output_type": "stream",
          "name": "stderr",
          "text": [
            "100%|██████████| 7/7 [00:58<00:00,  8.29s/it]"
          ]
        },
        {
          "output_type": "stream",
          "name": "stdout",
          "text": [
            "Epoch 41 \t\t Training Loss: 1.0131643905745134\n"
          ]
        },
        {
          "output_type": "stream",
          "name": "stderr",
          "text": [
            "\n"
          ]
        },
        {
          "output_type": "stream",
          "name": "stdout",
          "text": [
            "Epoch 41 \t\t Validation Loss: 1.225420739310139\n",
            "trigger times: 1\n",
            "Starting Training Epoch 42\n"
          ]
        },
        {
          "output_type": "stream",
          "name": "stderr",
          "text": [
            "100%|██████████| 7/7 [00:57<00:00,  8.28s/it]"
          ]
        },
        {
          "output_type": "stream",
          "name": "stdout",
          "text": [
            "Epoch 42 \t\t Training Loss: 1.0041658053805183\n"
          ]
        },
        {
          "output_type": "stream",
          "name": "stderr",
          "text": [
            "\n"
          ]
        },
        {
          "output_type": "stream",
          "name": "stdout",
          "text": [
            "Epoch 42 \t\t Validation Loss: 1.2169271210805959\n",
            "trigger times: 0\n",
            "Starting Training Epoch 43\n"
          ]
        },
        {
          "output_type": "stream",
          "name": "stderr",
          "text": [
            "100%|██████████| 7/7 [00:57<00:00,  8.28s/it]"
          ]
        },
        {
          "output_type": "stream",
          "name": "stdout",
          "text": [
            "Epoch 43 \t\t Training Loss: 1.0035162413375172\n"
          ]
        },
        {
          "output_type": "stream",
          "name": "stderr",
          "text": [
            "\n"
          ]
        },
        {
          "output_type": "stream",
          "name": "stdout",
          "text": [
            "Epoch 43 \t\t Validation Loss: 1.2135119533692578\n",
            "trigger times: 0\n",
            "Starting Training Epoch 44\n"
          ]
        },
        {
          "output_type": "stream",
          "name": "stderr",
          "text": [
            "100%|██████████| 7/7 [00:57<00:00,  8.28s/it]"
          ]
        },
        {
          "output_type": "stream",
          "name": "stdout",
          "text": [
            "Epoch 44 \t\t Training Loss: 0.9994380487410622\n"
          ]
        },
        {
          "output_type": "stream",
          "name": "stderr",
          "text": [
            "\n"
          ]
        },
        {
          "output_type": "stream",
          "name": "stdout",
          "text": [
            "Epoch 44 \t\t Validation Loss: 1.2087749576687372\n",
            "trigger times: 0\n",
            "Starting Training Epoch 45\n"
          ]
        },
        {
          "output_type": "stream",
          "name": "stderr",
          "text": [
            "100%|██████████| 7/7 [00:57<00:00,  8.28s/it]"
          ]
        },
        {
          "output_type": "stream",
          "name": "stdout",
          "text": [
            "Epoch 45 \t\t Training Loss: 0.9924688611050713\n"
          ]
        },
        {
          "output_type": "stream",
          "name": "stderr",
          "text": [
            "\n"
          ]
        },
        {
          "output_type": "stream",
          "name": "stdout",
          "text": [
            "Epoch 45 \t\t Validation Loss: 1.1981307010512885\n",
            "trigger times: 0\n",
            "Starting Training Epoch 46\n"
          ]
        },
        {
          "output_type": "stream",
          "name": "stderr",
          "text": [
            "100%|██████████| 7/7 [00:57<00:00,  8.28s/it]"
          ]
        },
        {
          "output_type": "stream",
          "name": "stdout",
          "text": [
            "Epoch 46 \t\t Training Loss: 0.9899017332828154\n"
          ]
        },
        {
          "output_type": "stream",
          "name": "stderr",
          "text": [
            "\n"
          ]
        },
        {
          "output_type": "stream",
          "name": "stdout",
          "text": [
            "Epoch 46 \t\t Validation Loss: 1.2167008134055703\n",
            "trigger times: 1\n",
            "Starting Training Epoch 47\n"
          ]
        },
        {
          "output_type": "stream",
          "name": "stderr",
          "text": [
            "100%|██████████| 7/7 [00:57<00:00,  8.29s/it]"
          ]
        },
        {
          "output_type": "stream",
          "name": "stdout",
          "text": [
            "Epoch 47 \t\t Training Loss: 0.9861428754422231\n"
          ]
        },
        {
          "output_type": "stream",
          "name": "stderr",
          "text": [
            "\n"
          ]
        },
        {
          "output_type": "stream",
          "name": "stdout",
          "text": [
            "Epoch 47 \t\t Validation Loss: 1.2021106675088045\n",
            "trigger times: 2\n",
            "Starting Training Epoch 48\n"
          ]
        },
        {
          "output_type": "stream",
          "name": "stderr",
          "text": [
            "100%|██████████| 7/7 [00:57<00:00,  8.28s/it]"
          ]
        },
        {
          "output_type": "stream",
          "name": "stdout",
          "text": [
            "Epoch 48 \t\t Training Loss: 0.9939553780465549\n"
          ]
        },
        {
          "output_type": "stream",
          "name": "stderr",
          "text": [
            "\n"
          ]
        },
        {
          "output_type": "stream",
          "name": "stdout",
          "text": [
            "Epoch 48 \t\t Validation Loss: 1.1992689652852153\n",
            "trigger times: 3\n",
            "Starting Training Epoch 49\n"
          ]
        },
        {
          "output_type": "stream",
          "name": "stderr",
          "text": [
            "100%|██████████| 7/7 [00:57<00:00,  8.28s/it]"
          ]
        },
        {
          "output_type": "stream",
          "name": "stdout",
          "text": [
            "Epoch 49 \t\t Training Loss: 0.9771721962457031\n"
          ]
        },
        {
          "output_type": "stream",
          "name": "stderr",
          "text": [
            "\n"
          ]
        },
        {
          "output_type": "stream",
          "name": "stdout",
          "text": [
            "Epoch 49 \t\t Validation Loss: 1.2107307423379279\n",
            "trigger times: 4\n",
            "Starting Training Epoch 50\n"
          ]
        },
        {
          "output_type": "stream",
          "name": "stderr",
          "text": [
            "100%|██████████| 7/7 [00:57<00:00,  8.28s/it]"
          ]
        },
        {
          "output_type": "stream",
          "name": "stdout",
          "text": [
            "Epoch 50 \t\t Training Loss: 0.9701637978905335\n"
          ]
        },
        {
          "output_type": "stream",
          "name": "stderr",
          "text": [
            "\n"
          ]
        },
        {
          "output_type": "stream",
          "name": "stdout",
          "text": [
            "Epoch 50 \t\t Validation Loss: 1.2040810873372627\n",
            "trigger times: 5\n",
            "Starting Training Epoch 51\n"
          ]
        },
        {
          "output_type": "stream",
          "name": "stderr",
          "text": [
            "100%|██████████| 7/7 [00:57<00:00,  8.28s/it]"
          ]
        },
        {
          "output_type": "stream",
          "name": "stdout",
          "text": [
            "Epoch 51 \t\t Training Loss: 0.9804851276292507\n"
          ]
        },
        {
          "output_type": "stream",
          "name": "stderr",
          "text": [
            "\n"
          ]
        },
        {
          "output_type": "stream",
          "name": "stdout",
          "text": [
            "Epoch 51 \t\t Validation Loss: 1.1956905598675878\n",
            "trigger times: 0\n",
            "Starting Training Epoch 52\n"
          ]
        },
        {
          "output_type": "stream",
          "name": "stderr",
          "text": [
            "100%|██████████| 7/7 [00:57<00:00,  8.28s/it]"
          ]
        },
        {
          "output_type": "stream",
          "name": "stdout",
          "text": [
            "Epoch 52 \t\t Training Loss: 0.970633889093617\n"
          ]
        },
        {
          "output_type": "stream",
          "name": "stderr",
          "text": [
            "\n"
          ]
        },
        {
          "output_type": "stream",
          "name": "stdout",
          "text": [
            "Epoch 52 \t\t Validation Loss: 1.1966674152665209\n",
            "trigger times: 1\n",
            "Starting Training Epoch 53\n"
          ]
        },
        {
          "output_type": "stream",
          "name": "stderr",
          "text": [
            "100%|██████████| 7/7 [00:57<00:00,  8.28s/it]"
          ]
        },
        {
          "output_type": "stream",
          "name": "stdout",
          "text": [
            "Epoch 53 \t\t Training Loss: 0.9708219286690044\n"
          ]
        },
        {
          "output_type": "stream",
          "name": "stderr",
          "text": [
            "\n"
          ]
        },
        {
          "output_type": "stream",
          "name": "stdout",
          "text": [
            "Epoch 53 \t\t Validation Loss: 1.1898499184268116\n",
            "trigger times: 0\n",
            "Starting Training Epoch 54\n"
          ]
        },
        {
          "output_type": "stream",
          "name": "stderr",
          "text": [
            "100%|██████████| 7/7 [00:57<00:00,  8.28s/it]"
          ]
        },
        {
          "output_type": "stream",
          "name": "stdout",
          "text": [
            "Epoch 54 \t\t Training Loss: 0.9592445314409341\n"
          ]
        },
        {
          "output_type": "stream",
          "name": "stderr",
          "text": [
            "\n"
          ]
        },
        {
          "output_type": "stream",
          "name": "stdout",
          "text": [
            "Epoch 54 \t\t Validation Loss: 1.197188807285227\n",
            "trigger times: 1\n",
            "Starting Training Epoch 55\n"
          ]
        },
        {
          "output_type": "stream",
          "name": "stderr",
          "text": [
            "100%|██████████| 7/7 [00:57<00:00,  8.28s/it]"
          ]
        },
        {
          "output_type": "stream",
          "name": "stdout",
          "text": [
            "Epoch 55 \t\t Training Loss: 0.9625898311345323\n"
          ]
        },
        {
          "output_type": "stream",
          "name": "stderr",
          "text": [
            "\n"
          ]
        },
        {
          "output_type": "stream",
          "name": "stdout",
          "text": [
            "Epoch 55 \t\t Validation Loss: 1.2134357107557956\n",
            "trigger times: 2\n",
            "Starting Training Epoch 56\n"
          ]
        },
        {
          "output_type": "stream",
          "name": "stderr",
          "text": [
            "100%|██████████| 7/7 [00:57<00:00,  8.27s/it]"
          ]
        },
        {
          "output_type": "stream",
          "name": "stdout",
          "text": [
            "Epoch 56 \t\t Training Loss: 0.9667658081843077\n"
          ]
        },
        {
          "output_type": "stream",
          "name": "stderr",
          "text": [
            "\n"
          ]
        },
        {
          "output_type": "stream",
          "name": "stdout",
          "text": [
            "Epoch 56 \t\t Validation Loss: 1.1911273263116873\n",
            "trigger times: 3\n",
            "Starting Training Epoch 57\n"
          ]
        },
        {
          "output_type": "stream",
          "name": "stderr",
          "text": [
            "100%|██████████| 7/7 [00:57<00:00,  8.28s/it]"
          ]
        },
        {
          "output_type": "stream",
          "name": "stdout",
          "text": [
            "Epoch 57 \t\t Training Loss: 0.9562925466539463\n"
          ]
        },
        {
          "output_type": "stream",
          "name": "stderr",
          "text": [
            "\n"
          ]
        },
        {
          "output_type": "stream",
          "name": "stdout",
          "text": [
            "Epoch 57 \t\t Validation Loss: 1.1855513043942765\n",
            "trigger times: 0\n",
            "Starting Training Epoch 58\n"
          ]
        },
        {
          "output_type": "stream",
          "name": "stderr",
          "text": [
            "100%|██████████| 7/7 [00:57<00:00,  8.28s/it]"
          ]
        },
        {
          "output_type": "stream",
          "name": "stdout",
          "text": [
            "Epoch 58 \t\t Training Loss: 0.9518590926992481\n"
          ]
        },
        {
          "output_type": "stream",
          "name": "stderr",
          "text": [
            "\n"
          ]
        },
        {
          "output_type": "stream",
          "name": "stdout",
          "text": [
            "Epoch 58 \t\t Validation Loss: 1.1955292190990372\n",
            "trigger times: 1\n",
            "Starting Training Epoch 59\n"
          ]
        },
        {
          "output_type": "stream",
          "name": "stderr",
          "text": [
            "100%|██████████| 7/7 [00:57<00:00,  8.28s/it]"
          ]
        },
        {
          "output_type": "stream",
          "name": "stdout",
          "text": [
            "Epoch 59 \t\t Training Loss: 0.9487759995607756\n"
          ]
        },
        {
          "output_type": "stream",
          "name": "stderr",
          "text": [
            "\n"
          ]
        },
        {
          "output_type": "stream",
          "name": "stdout",
          "text": [
            "Epoch 59 \t\t Validation Loss: 1.1960503851527673\n",
            "trigger times: 2\n",
            "Starting Training Epoch 60\n"
          ]
        },
        {
          "output_type": "stream",
          "name": "stderr",
          "text": [
            "100%|██████████| 7/7 [00:58<00:00,  8.29s/it]"
          ]
        },
        {
          "output_type": "stream",
          "name": "stdout",
          "text": [
            "Epoch 60 \t\t Training Loss: 0.9497336685424901\n"
          ]
        },
        {
          "output_type": "stream",
          "name": "stderr",
          "text": [
            "\n"
          ]
        },
        {
          "output_type": "stream",
          "name": "stdout",
          "text": [
            "Epoch 60 \t\t Validation Loss: 1.1925174573252368\n",
            "trigger times: 3\n",
            "Starting Training Epoch 61\n"
          ]
        },
        {
          "output_type": "stream",
          "name": "stderr",
          "text": [
            "100%|██████████| 7/7 [00:57<00:00,  8.28s/it]"
          ]
        },
        {
          "output_type": "stream",
          "name": "stdout",
          "text": [
            "Epoch 61 \t\t Training Loss: 0.943445260654089\n"
          ]
        },
        {
          "output_type": "stream",
          "name": "stderr",
          "text": [
            "\n"
          ]
        },
        {
          "output_type": "stream",
          "name": "stdout",
          "text": [
            "Epoch 61 \t\t Validation Loss: 1.188723076314691\n",
            "trigger times: 4\n",
            "Starting Training Epoch 62\n"
          ]
        },
        {
          "output_type": "stream",
          "name": "stderr",
          "text": [
            "100%|██████████| 7/7 [00:58<00:00,  8.29s/it]"
          ]
        },
        {
          "output_type": "stream",
          "name": "stdout",
          "text": [
            "Epoch 62 \t\t Training Loss: 0.9417073496844915\n"
          ]
        },
        {
          "output_type": "stream",
          "name": "stderr",
          "text": [
            "\n"
          ]
        },
        {
          "output_type": "stream",
          "name": "stdout",
          "text": [
            "Epoch 62 \t\t Validation Loss: 1.1828718397053477\n",
            "trigger times: 0\n",
            "Starting Training Epoch 63\n"
          ]
        },
        {
          "output_type": "stream",
          "name": "stderr",
          "text": [
            "100%|██████████| 7/7 [00:57<00:00,  8.27s/it]"
          ]
        },
        {
          "output_type": "stream",
          "name": "stdout",
          "text": [
            "Epoch 63 \t\t Training Loss: 0.9424135517015443\n"
          ]
        },
        {
          "output_type": "stream",
          "name": "stderr",
          "text": [
            "\n"
          ]
        },
        {
          "output_type": "stream",
          "name": "stdout",
          "text": [
            "Epoch 63 \t\t Validation Loss: 1.1958724859497263\n",
            "trigger times: 1\n",
            "Starting Training Epoch 64\n"
          ]
        },
        {
          "output_type": "stream",
          "name": "stderr",
          "text": [
            "100%|██████████| 7/7 [00:58<00:00,  8.29s/it]"
          ]
        },
        {
          "output_type": "stream",
          "name": "stdout",
          "text": [
            "Epoch 64 \t\t Training Loss: 0.9512295704994231\n"
          ]
        },
        {
          "output_type": "stream",
          "name": "stderr",
          "text": [
            "\n"
          ]
        },
        {
          "output_type": "stream",
          "name": "stdout",
          "text": [
            "Epoch 64 \t\t Validation Loss: 1.2064062021650273\n",
            "trigger times: 2\n",
            "Starting Training Epoch 65\n"
          ]
        },
        {
          "output_type": "stream",
          "name": "stderr",
          "text": [
            "100%|██████████| 7/7 [00:57<00:00,  8.27s/it]"
          ]
        },
        {
          "output_type": "stream",
          "name": "stdout",
          "text": [
            "Epoch 65 \t\t Training Loss: 0.9299503986768728\n"
          ]
        },
        {
          "output_type": "stream",
          "name": "stderr",
          "text": [
            "\n"
          ]
        },
        {
          "output_type": "stream",
          "name": "stdout",
          "text": [
            "Epoch 65 \t\t Validation Loss: 1.188835791947931\n",
            "trigger times: 3\n",
            "Starting Training Epoch 66\n"
          ]
        },
        {
          "output_type": "stream",
          "name": "stderr",
          "text": [
            "100%|██████████| 7/7 [00:57<00:00,  8.28s/it]"
          ]
        },
        {
          "output_type": "stream",
          "name": "stdout",
          "text": [
            "Epoch 66 \t\t Training Loss: 0.9343790758338134\n"
          ]
        },
        {
          "output_type": "stream",
          "name": "stderr",
          "text": [
            "\n"
          ]
        },
        {
          "output_type": "stream",
          "name": "stdout",
          "text": [
            "Epoch 66 \t\t Validation Loss: 1.1772108181867134\n",
            "trigger times: 0\n",
            "Starting Training Epoch 67\n"
          ]
        },
        {
          "output_type": "stream",
          "name": "stderr",
          "text": [
            "100%|██████████| 7/7 [00:57<00:00,  8.28s/it]"
          ]
        },
        {
          "output_type": "stream",
          "name": "stdout",
          "text": [
            "Epoch 67 \t\t Training Loss: 0.9317961195752059\n"
          ]
        },
        {
          "output_type": "stream",
          "name": "stderr",
          "text": [
            "\n"
          ]
        },
        {
          "output_type": "stream",
          "name": "stdout",
          "text": [
            "Epoch 67 \t\t Validation Loss: 1.1843784757361377\n",
            "trigger times: 1\n",
            "Starting Training Epoch 68\n"
          ]
        },
        {
          "output_type": "stream",
          "name": "stderr",
          "text": [
            "100%|██████████| 7/7 [00:57<00:00,  8.27s/it]"
          ]
        },
        {
          "output_type": "stream",
          "name": "stdout",
          "text": [
            "Epoch 68 \t\t Training Loss: 0.9371639685505719\n"
          ]
        },
        {
          "output_type": "stream",
          "name": "stderr",
          "text": [
            "\n"
          ]
        },
        {
          "output_type": "stream",
          "name": "stdout",
          "text": [
            "Epoch 68 \t\t Validation Loss: 1.1756426212612228\n",
            "trigger times: 0\n",
            "Starting Training Epoch 69\n"
          ]
        },
        {
          "output_type": "stream",
          "name": "stderr",
          "text": [
            "100%|██████████| 7/7 [00:57<00:00,  8.28s/it]"
          ]
        },
        {
          "output_type": "stream",
          "name": "stdout",
          "text": [
            "Epoch 69 \t\t Training Loss: 0.9328146744675225\n"
          ]
        },
        {
          "output_type": "stream",
          "name": "stderr",
          "text": [
            "\n"
          ]
        },
        {
          "output_type": "stream",
          "name": "stdout",
          "text": [
            "Epoch 69 \t\t Validation Loss: 1.218590958057805\n",
            "trigger times: 1\n",
            "Starting Training Epoch 70\n"
          ]
        },
        {
          "output_type": "stream",
          "name": "stderr",
          "text": [
            "100%|██████████| 7/7 [00:57<00:00,  8.28s/it]"
          ]
        },
        {
          "output_type": "stream",
          "name": "stdout",
          "text": [
            "Epoch 70 \t\t Training Loss: 0.9261613213871838\n"
          ]
        },
        {
          "output_type": "stream",
          "name": "stderr",
          "text": [
            "\n"
          ]
        },
        {
          "output_type": "stream",
          "name": "stdout",
          "text": [
            "Epoch 70 \t\t Validation Loss: 1.195320067308001\n",
            "trigger times: 2\n",
            "Starting Training Epoch 71\n"
          ]
        },
        {
          "output_type": "stream",
          "name": "stderr",
          "text": [
            "100%|██████████| 7/7 [00:57<00:00,  8.28s/it]"
          ]
        },
        {
          "output_type": "stream",
          "name": "stdout",
          "text": [
            "Epoch 71 \t\t Training Loss: 0.9235552333558531\n"
          ]
        },
        {
          "output_type": "stream",
          "name": "stderr",
          "text": [
            "\n"
          ]
        },
        {
          "output_type": "stream",
          "name": "stdout",
          "text": [
            "Epoch 71 \t\t Validation Loss: 1.1573562944276903\n",
            "trigger times: 0\n",
            "Starting Training Epoch 72\n"
          ]
        },
        {
          "output_type": "stream",
          "name": "stderr",
          "text": [
            "100%|██████████| 7/7 [00:58<00:00,  8.29s/it]"
          ]
        },
        {
          "output_type": "stream",
          "name": "stdout",
          "text": [
            "Epoch 72 \t\t Training Loss: 0.9189921002042719\n"
          ]
        },
        {
          "output_type": "stream",
          "name": "stderr",
          "text": [
            "\n"
          ]
        },
        {
          "output_type": "stream",
          "name": "stdout",
          "text": [
            "Epoch 72 \t\t Validation Loss: 1.1830054384868216\n",
            "trigger times: 1\n",
            "Starting Training Epoch 73\n"
          ]
        },
        {
          "output_type": "stream",
          "name": "stderr",
          "text": [
            "100%|██████████| 7/7 [00:57<00:00,  8.27s/it]"
          ]
        },
        {
          "output_type": "stream",
          "name": "stdout",
          "text": [
            "Epoch 73 \t\t Training Loss: 0.9107885761319414\n"
          ]
        },
        {
          "output_type": "stream",
          "name": "stderr",
          "text": [
            "\n"
          ]
        },
        {
          "output_type": "stream",
          "name": "stdout",
          "text": [
            "Epoch 73 \t\t Validation Loss: 1.2058516699388024\n",
            "trigger times: 2\n",
            "Starting Training Epoch 74\n"
          ]
        },
        {
          "output_type": "stream",
          "name": "stderr",
          "text": [
            "100%|██████████| 7/7 [00:58<00:00,  8.29s/it]"
          ]
        },
        {
          "output_type": "stream",
          "name": "stdout",
          "text": [
            "Epoch 74 \t\t Training Loss: 0.9132879944560753\n"
          ]
        },
        {
          "output_type": "stream",
          "name": "stderr",
          "text": [
            "\n"
          ]
        },
        {
          "output_type": "stream",
          "name": "stdout",
          "text": [
            "Epoch 74 \t\t Validation Loss: 1.1772489485744027\n",
            "trigger times: 3\n",
            "Starting Training Epoch 75\n"
          ]
        },
        {
          "output_type": "stream",
          "name": "stderr",
          "text": [
            "100%|██████████| 7/7 [00:57<00:00,  8.29s/it]"
          ]
        },
        {
          "output_type": "stream",
          "name": "stdout",
          "text": [
            "Epoch 75 \t\t Training Loss: 0.9151608665561347\n"
          ]
        },
        {
          "output_type": "stream",
          "name": "stderr",
          "text": [
            "\n"
          ]
        },
        {
          "output_type": "stream",
          "name": "stdout",
          "text": [
            "Epoch 75 \t\t Validation Loss: 1.1667725367478774\n",
            "trigger times: 4\n",
            "Starting Training Epoch 76\n"
          ]
        },
        {
          "output_type": "stream",
          "name": "stderr",
          "text": [
            "100%|██████████| 7/7 [00:57<00:00,  8.28s/it]"
          ]
        },
        {
          "output_type": "stream",
          "name": "stdout",
          "text": [
            "Epoch 76 \t\t Training Loss: 0.9085176346246281\n"
          ]
        },
        {
          "output_type": "stream",
          "name": "stderr",
          "text": [
            "\n"
          ]
        },
        {
          "output_type": "stream",
          "name": "stdout",
          "text": [
            "Epoch 76 \t\t Validation Loss: 1.1751178899245809\n",
            "trigger times: 5\n",
            "Starting Training Epoch 77\n"
          ]
        },
        {
          "output_type": "stream",
          "name": "stderr",
          "text": [
            "100%|██████████| 7/7 [00:57<00:00,  8.28s/it]"
          ]
        },
        {
          "output_type": "stream",
          "name": "stdout",
          "text": [
            "Epoch 77 \t\t Training Loss: 0.9127641030397476\n"
          ]
        },
        {
          "output_type": "stream",
          "name": "stderr",
          "text": [
            "\n"
          ]
        },
        {
          "output_type": "stream",
          "name": "stdout",
          "text": [
            "Epoch 77 \t\t Validation Loss: 1.183090604533993\n",
            "trigger times: 6\n",
            "Starting Training Epoch 78\n"
          ]
        },
        {
          "output_type": "stream",
          "name": "stderr",
          "text": [
            "100%|██████████| 7/7 [00:58<00:00,  8.29s/it]"
          ]
        },
        {
          "output_type": "stream",
          "name": "stdout",
          "text": [
            "Epoch 78 \t\t Training Loss: 0.9063699718887535\n"
          ]
        },
        {
          "output_type": "stream",
          "name": "stderr",
          "text": [
            "\n"
          ]
        },
        {
          "output_type": "stream",
          "name": "stdout",
          "text": [
            "Epoch 78 \t\t Validation Loss: 1.18710755797684\n",
            "trigger times: 7\n",
            "Starting Training Epoch 79\n"
          ]
        },
        {
          "output_type": "stream",
          "name": "stderr",
          "text": [
            "100%|██████████| 7/7 [00:57<00:00,  8.28s/it]"
          ]
        },
        {
          "output_type": "stream",
          "name": "stdout",
          "text": [
            "Epoch 79 \t\t Training Loss: 0.9048285966624744\n"
          ]
        },
        {
          "output_type": "stream",
          "name": "stderr",
          "text": [
            "\n"
          ]
        },
        {
          "output_type": "stream",
          "name": "stdout",
          "text": [
            "Epoch 79 \t\t Validation Loss: 1.1752791670374734\n",
            "trigger times: 8\n",
            "Starting Training Epoch 80\n"
          ]
        },
        {
          "output_type": "stream",
          "name": "stderr",
          "text": [
            "100%|██████████| 7/7 [00:58<00:00,  8.29s/it]"
          ]
        },
        {
          "output_type": "stream",
          "name": "stdout",
          "text": [
            "Epoch 80 \t\t Training Loss: 0.9139082252634766\n"
          ]
        },
        {
          "output_type": "stream",
          "name": "stderr",
          "text": [
            "\n"
          ]
        },
        {
          "output_type": "stream",
          "name": "stdout",
          "text": [
            "Epoch 80 \t\t Validation Loss: 1.1570811150754086\n",
            "trigger times: 0\n",
            "Starting Training Epoch 81\n"
          ]
        },
        {
          "output_type": "stream",
          "name": "stderr",
          "text": [
            "100%|██████████| 7/7 [00:57<00:00,  8.28s/it]"
          ]
        },
        {
          "output_type": "stream",
          "name": "stdout",
          "text": [
            "Epoch 81 \t\t Training Loss: 0.908344538202479\n"
          ]
        },
        {
          "output_type": "stream",
          "name": "stderr",
          "text": [
            "\n"
          ]
        },
        {
          "output_type": "stream",
          "name": "stdout",
          "text": [
            "Epoch 81 \t\t Validation Loss: 1.1701776216944189\n",
            "trigger times: 1\n",
            "Starting Training Epoch 82\n"
          ]
        },
        {
          "output_type": "stream",
          "name": "stderr",
          "text": [
            "100%|██████████| 7/7 [00:57<00:00,  8.28s/it]"
          ]
        },
        {
          "output_type": "stream",
          "name": "stdout",
          "text": [
            "Epoch 82 \t\t Training Loss: 0.902772441014197\n"
          ]
        },
        {
          "output_type": "stream",
          "name": "stderr",
          "text": [
            "\n"
          ]
        },
        {
          "output_type": "stream",
          "name": "stdout",
          "text": [
            "Epoch 82 \t\t Validation Loss: 1.173015878022364\n",
            "trigger times: 2\n",
            "Starting Training Epoch 83\n"
          ]
        },
        {
          "output_type": "stream",
          "name": "stderr",
          "text": [
            "100%|██████████| 7/7 [00:57<00:00,  8.28s/it]"
          ]
        },
        {
          "output_type": "stream",
          "name": "stdout",
          "text": [
            "Epoch 83 \t\t Training Loss: 0.9049528477784877\n"
          ]
        },
        {
          "output_type": "stream",
          "name": "stderr",
          "text": [
            "\n"
          ]
        },
        {
          "output_type": "stream",
          "name": "stdout",
          "text": [
            "Epoch 83 \t\t Validation Loss: 1.169803484555132\n",
            "trigger times: 3\n",
            "Starting Training Epoch 84\n"
          ]
        },
        {
          "output_type": "stream",
          "name": "stderr",
          "text": [
            "100%|██████████| 7/7 [00:57<00:00,  8.28s/it]"
          ]
        },
        {
          "output_type": "stream",
          "name": "stdout",
          "text": [
            "Epoch 84 \t\t Training Loss: 0.9016283868586347\n"
          ]
        },
        {
          "output_type": "stream",
          "name": "stderr",
          "text": [
            "\n"
          ]
        },
        {
          "output_type": "stream",
          "name": "stdout",
          "text": [
            "Epoch 84 \t\t Validation Loss: 1.1494195112925234\n",
            "trigger times: 0\n",
            "Starting Training Epoch 85\n"
          ]
        },
        {
          "output_type": "stream",
          "name": "stderr",
          "text": [
            "100%|██████████| 7/7 [00:58<00:00,  8.29s/it]"
          ]
        },
        {
          "output_type": "stream",
          "name": "stdout",
          "text": [
            "Epoch 85 \t\t Training Loss: 0.8979375461078859\n"
          ]
        },
        {
          "output_type": "stream",
          "name": "stderr",
          "text": [
            "\n"
          ]
        },
        {
          "output_type": "stream",
          "name": "stdout",
          "text": [
            "Epoch 85 \t\t Validation Loss: 1.1670348413980847\n",
            "trigger times: 1\n",
            "Starting Training Epoch 86\n"
          ]
        },
        {
          "output_type": "stream",
          "name": "stderr",
          "text": [
            "100%|██████████| 7/7 [00:58<00:00,  8.29s/it]"
          ]
        },
        {
          "output_type": "stream",
          "name": "stdout",
          "text": [
            "Epoch 86 \t\t Training Loss: 0.8943868720962149\n"
          ]
        },
        {
          "output_type": "stream",
          "name": "stderr",
          "text": [
            "\n"
          ]
        },
        {
          "output_type": "stream",
          "name": "stdout",
          "text": [
            "Epoch 86 \t\t Validation Loss: 1.1656649578342582\n",
            "trigger times: 2\n",
            "Starting Training Epoch 87\n"
          ]
        },
        {
          "output_type": "stream",
          "name": "stderr",
          "text": [
            "100%|██████████| 7/7 [00:57<00:00,  8.28s/it]"
          ]
        },
        {
          "output_type": "stream",
          "name": "stdout",
          "text": [
            "Epoch 87 \t\t Training Loss: 0.8913806263768009\n"
          ]
        },
        {
          "output_type": "stream",
          "name": "stderr",
          "text": [
            "\n"
          ]
        },
        {
          "output_type": "stream",
          "name": "stdout",
          "text": [
            "Epoch 87 \t\t Validation Loss: 1.1679634379310664\n",
            "trigger times: 3\n",
            "Starting Training Epoch 88\n"
          ]
        },
        {
          "output_type": "stream",
          "name": "stderr",
          "text": [
            "100%|██████████| 7/7 [00:57<00:00,  8.28s/it]"
          ]
        },
        {
          "output_type": "stream",
          "name": "stdout",
          "text": [
            "Epoch 88 \t\t Training Loss: 0.8923415635235962\n"
          ]
        },
        {
          "output_type": "stream",
          "name": "stderr",
          "text": [
            "\n"
          ]
        },
        {
          "output_type": "stream",
          "name": "stdout",
          "text": [
            "Epoch 88 \t\t Validation Loss: 1.1598363859387657\n",
            "trigger times: 4\n",
            "Starting Training Epoch 89\n"
          ]
        },
        {
          "output_type": "stream",
          "name": "stderr",
          "text": [
            "100%|██████████| 7/7 [00:57<00:00,  8.29s/it]"
          ]
        },
        {
          "output_type": "stream",
          "name": "stdout",
          "text": [
            "Epoch 89 \t\t Training Loss: 0.8960012689193896\n"
          ]
        },
        {
          "output_type": "stream",
          "name": "stderr",
          "text": [
            "\n"
          ]
        },
        {
          "output_type": "stream",
          "name": "stdout",
          "text": [
            "Epoch 89 \t\t Validation Loss: 1.1620534093523907\n",
            "trigger times: 5\n",
            "Starting Training Epoch 90\n"
          ]
        },
        {
          "output_type": "stream",
          "name": "stderr",
          "text": [
            "100%|██████████| 7/7 [00:57<00:00,  8.28s/it]"
          ]
        },
        {
          "output_type": "stream",
          "name": "stdout",
          "text": [
            "Epoch 90 \t\t Training Loss: 0.8884936975543637\n"
          ]
        },
        {
          "output_type": "stream",
          "name": "stderr",
          "text": [
            "\n"
          ]
        },
        {
          "output_type": "stream",
          "name": "stdout",
          "text": [
            "Epoch 90 \t\t Validation Loss: 1.1598785292546716\n",
            "trigger times: 6\n",
            "Starting Training Epoch 91\n"
          ]
        },
        {
          "output_type": "stream",
          "name": "stderr",
          "text": [
            "100%|██████████| 7/7 [00:57<00:00,  8.28s/it]"
          ]
        },
        {
          "output_type": "stream",
          "name": "stdout",
          "text": [
            "Epoch 91 \t\t Training Loss: 0.8847078352032404\n"
          ]
        },
        {
          "output_type": "stream",
          "name": "stderr",
          "text": [
            "\n"
          ]
        },
        {
          "output_type": "stream",
          "name": "stdout",
          "text": [
            "Epoch 91 \t\t Validation Loss: 1.1637189532449028\n",
            "trigger times: 7\n",
            "Starting Training Epoch 92\n"
          ]
        },
        {
          "output_type": "stream",
          "name": "stderr",
          "text": [
            "100%|██████████| 7/7 [00:57<00:00,  8.28s/it]"
          ]
        },
        {
          "output_type": "stream",
          "name": "stdout",
          "text": [
            "Epoch 92 \t\t Training Loss: 0.8852416473972713\n"
          ]
        },
        {
          "output_type": "stream",
          "name": "stderr",
          "text": [
            "\n"
          ]
        },
        {
          "output_type": "stream",
          "name": "stdout",
          "text": [
            "Epoch 92 \t\t Validation Loss: 1.165153922468014\n",
            "trigger times: 8\n",
            "Starting Training Epoch 93\n"
          ]
        },
        {
          "output_type": "stream",
          "name": "stderr",
          "text": [
            "100%|██████████| 7/7 [00:58<00:00,  8.29s/it]"
          ]
        },
        {
          "output_type": "stream",
          "name": "stdout",
          "text": [
            "Epoch 93 \t\t Training Loss: 0.8809652288641691\n"
          ]
        },
        {
          "output_type": "stream",
          "name": "stderr",
          "text": [
            "\n"
          ]
        },
        {
          "output_type": "stream",
          "name": "stdout",
          "text": [
            "Epoch 93 \t\t Validation Loss: 1.1548082303326677\n",
            "trigger times: 9\n",
            "Starting Training Epoch 94\n"
          ]
        },
        {
          "output_type": "stream",
          "name": "stderr",
          "text": [
            "100%|██████████| 7/7 [00:57<00:00,  8.28s/it]"
          ]
        },
        {
          "output_type": "stream",
          "name": "stdout",
          "text": [
            "Epoch 94 \t\t Training Loss: 0.8848417323783406\n"
          ]
        },
        {
          "output_type": "stream",
          "name": "stderr",
          "text": [
            "\n"
          ]
        },
        {
          "output_type": "stream",
          "name": "stdout",
          "text": [
            "Epoch 94 \t\t Validation Loss: 1.1673721966228476\n",
            "trigger times: 10\n",
            "Early stopping!\n",
            "Start to test process.\n"
          ]
        }
      ]
    },
    {
      "cell_type": "markdown",
      "source": [
        "# TESTING"
      ],
      "metadata": {
        "id": "_t5cVTx023jN"
      }
    },
    {
      "cell_type": "markdown",
      "source": [
        "LOADING MODEL FROM CHECKPOINT"
      ],
      "metadata": {
        "id": "n-OJCZv1Hg4X"
      }
    },
    {
      "cell_type": "code",
      "source": [
        "model_no = 93"
      ],
      "metadata": {
        "id": "PUHnawSSiRmg"
      },
      "execution_count": null,
      "outputs": []
    },
    {
      "cell_type": "code",
      "source": [
        "model_test = ShallowConvNet()\n",
        "model_test.load_state_dict(torch.load('./Results/Best_Models/250/ShallowConvNet.pth', map_location=torch.device('cpu')))\n",
        "model_test.eval()\n",
        "model_test.double()"
      ],
      "metadata": {
        "id": "9a8wBAr96MTQ",
        "colab": {
          "base_uri": "https://localhost:8080/"
        },
        "outputId": "ea7c430f-3580-41f9-f829-d41f8afa34ce"
      },
      "execution_count": null,
      "outputs": [
        {
          "output_type": "execute_result",
          "data": {
            "text/plain": [
              "ShallowConvNet(\n",
              "  (conv1): Conv2d(1, 40, kernel_size=(1, 13), stride=(1, 1))\n",
              "  (conv2): Conv2d(10, 40, kernel_size=(40, 22), stride=(1, 1))\n",
              "  (bnorm1): BatchNorm2d(40, eps=1e-05, momentum=0.1, affine=True, track_running_stats=True)\n",
              "  (avgpool1): AvgPool2d(kernel_size=(35, 1), stride=(7, 1), padding=0)\n",
              "  (dropout1): Dropout(p=0.5, inplace=False)\n",
              "  (fc1): Linear(in_features=19760, out_features=4, bias=True)\n",
              "  (softmax): Softmax(dim=None)\n",
              ")"
            ]
          },
          "metadata": {},
          "execution_count": 18
        }
      ]
    },
    {
      "cell_type": "markdown",
      "source": [
        "USING BEST MODEL FROM EARLY STOPPING"
      ],
      "metadata": {
        "id": "aKnHTQXzHjaI"
      }
    },
    {
      "cell_type": "code",
      "source": [
        "model_test = best_model"
      ],
      "metadata": {
        "id": "mum-q5asHm6b"
      },
      "execution_count": null,
      "outputs": []
    },
    {
      "cell_type": "code",
      "source": [
        "test_dataset = LoadData(data=x_test, labels=y_test)\n",
        "test_dataloader = DataLoader(test_dataset, batch_size=16, num_workers=2,pin_memory=True)"
      ],
      "metadata": {
        "id": "NvClPmt7HrI4"
      },
      "execution_count": null,
      "outputs": []
    },
    {
      "cell_type": "code",
      "source": [
        "correct = 0\n",
        "total = 0\n",
        "for i, (inputs, targets) in enumerate(test_dataloader):\n",
        "    # evaluate the model on the test set\n",
        "    model_test.to(device)\n",
        "    inputs = inputs.to(device, dtype=torch.double)\n",
        "    targets = targets.to(device)\n",
        "    outputs = model_test(inputs)\n",
        "    _, predicted = torch.max(outputs.data, 1)\n",
        "    total += targets.size(0)\n",
        "    correct += (predicted == targets).sum().item()\n",
        "\n",
        "print(f'Accuracy of the network on the test images: {100 * correct // total} %')"
      ],
      "metadata": {
        "id": "Hcy7np8g60PK",
        "colab": {
          "base_uri": "https://localhost:8080/"
        },
        "outputId": "19e560b6-4fb5-49f7-9287-87cefd4efae1"
      },
      "execution_count": null,
      "outputs": [
        {
          "output_type": "stream",
          "name": "stderr",
          "text": [
            "/usr/local/lib/python3.7/dist-packages/ipykernel_launcher.py:66: UserWarning: Implicit dimension choice for softmax has been deprecated. Change the call to include dim=X as an argument.\n"
          ]
        },
        {
          "output_type": "stream",
          "name": "stdout",
          "text": [
            "Accuracy of the network on the test images: 58 %\n"
          ]
        }
      ]
    },
    {
      "cell_type": "code",
      "source": [
        "test_dataset = LoadData(data=x_test, labels=y_test)\n",
        "test_dataloader = DataLoader(test_dataset, batch_size=16, num_workers=2,pin_memory=True)\n",
        "for model_no in range(20, 104):\n",
        "    model_test = DeepConvNet()\n",
        "    model_test.load_state_dict(torch.load('./Results/Models/saved_model_' + str(model_no) + '.pth', map_location=torch.device('cpu')))\n",
        "    model_test.eval()\n",
        "    model_test.double()\n",
        "    correct = 0\n",
        "    total = 0\n",
        "    for i, (inputs, targets) in enumerate(test_dataloader):\n",
        "        # evaluate the model on the test set\n",
        "        model_test.to(device)\n",
        "        inputs = inputs.to(device, dtype=torch.double)\n",
        "        targets = targets.to(device)\n",
        "        outputs = model_test(inputs)\n",
        "        _, predicted = torch.max(outputs.data, 1)\n",
        "        total += targets.size(0)\n",
        "        correct += (predicted == targets).sum().item()\n",
        "\n",
        "    print(f'Accuracy of model {model_no} on the test images: {100 * correct // total} %')"
      ],
      "metadata": {
        "id": "nK_rw7dHz4rs"
      },
      "execution_count": null,
      "outputs": []
    },
    {
      "cell_type": "code",
      "source": [
        ""
      ],
      "metadata": {
        "id": "FEgGhkuVKEEI"
      },
      "execution_count": null,
      "outputs": []
    }
  ]
}